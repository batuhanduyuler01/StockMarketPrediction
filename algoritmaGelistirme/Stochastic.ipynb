{
 "cells": [
  {
   "cell_type": "code",
   "execution_count": 1,
   "id": "e7a1946c",
   "metadata": {},
   "outputs": [],
   "source": [
    "# stochastic algoritması"
   ]
  },
  {
   "cell_type": "code",
   "execution_count": 2,
   "id": "c2516bcb",
   "metadata": {},
   "outputs": [],
   "source": [
    "import random\n",
    "import matplotlib.pyplot as plt\n",
    "import numpy as np"
   ]
  },
  {
   "cell_type": "code",
   "execution_count": 3,
   "id": "f673f72b",
   "metadata": {},
   "outputs": [],
   "source": [
    "import sys\n",
    "sys.path.append(\"../../main/\")\n",
    "from pandas.core.indexing import maybe_convert_ix\n",
    "import PredictionManager as pm\n",
    "import backtest_class as backTest\n",
    "import yFinance_class as yfHelper"
   ]
  },
  {
   "cell_type": "code",
   "execution_count": 4,
   "id": "0759f671",
   "metadata": {},
   "outputs": [],
   "source": [
    "userInput = \"BNB-USD\"\n",
    "period = '1mo'\n",
    "interval = '1d'"
   ]
  },
  {
   "cell_type": "code",
   "execution_count": 5,
   "id": "e1673a53",
   "metadata": {},
   "outputs": [
    {
     "name": "stdout",
     "output_type": "stream",
     "text": [
      "[*********************100%***********************]  1 of 1 completed\n"
     ]
    }
   ],
   "source": [
    "yData = yfHelper.yFinance(userInput.upper(), period, interval).getData()"
   ]
  },
  {
   "cell_type": "code",
   "execution_count": 6,
   "id": "8b0df71b",
   "metadata": {},
   "outputs": [
    {
     "data": {
      "text/html": [
       "<div>\n",
       "<style scoped>\n",
       "    .dataframe tbody tr th:only-of-type {\n",
       "        vertical-align: middle;\n",
       "    }\n",
       "\n",
       "    .dataframe tbody tr th {\n",
       "        vertical-align: top;\n",
       "    }\n",
       "\n",
       "    .dataframe thead th {\n",
       "        text-align: right;\n",
       "    }\n",
       "</style>\n",
       "<table border=\"1\" class=\"dataframe\">\n",
       "  <thead>\n",
       "    <tr style=\"text-align: right;\">\n",
       "      <th></th>\n",
       "      <th>Date</th>\n",
       "      <th>Open</th>\n",
       "      <th>High</th>\n",
       "      <th>Low</th>\n",
       "      <th>Close</th>\n",
       "      <th>Adj Close</th>\n",
       "      <th>Volume</th>\n",
       "    </tr>\n",
       "  </thead>\n",
       "  <tbody>\n",
       "    <tr>\n",
       "      <th>0</th>\n",
       "      <td>2021-12-27</td>\n",
       "      <td>546.507874</td>\n",
       "      <td>571.548889</td>\n",
       "      <td>543.506348</td>\n",
       "      <td>562.641479</td>\n",
       "      <td>562.641479</td>\n",
       "      <td>2180356553</td>\n",
       "    </tr>\n",
       "    <tr>\n",
       "      <th>1</th>\n",
       "      <td>2021-12-28</td>\n",
       "      <td>563.590332</td>\n",
       "      <td>563.590332</td>\n",
       "      <td>530.059937</td>\n",
       "      <td>534.928040</td>\n",
       "      <td>534.928040</td>\n",
       "      <td>2791585162</td>\n",
       "    </tr>\n",
       "    <tr>\n",
       "      <th>2</th>\n",
       "      <td>2021-12-29</td>\n",
       "      <td>534.850037</td>\n",
       "      <td>540.615784</td>\n",
       "      <td>511.745331</td>\n",
       "      <td>514.000793</td>\n",
       "      <td>514.000793</td>\n",
       "      <td>2159325741</td>\n",
       "    </tr>\n",
       "    <tr>\n",
       "      <th>3</th>\n",
       "      <td>2021-12-30</td>\n",
       "      <td>514.570251</td>\n",
       "      <td>527.568298</td>\n",
       "      <td>509.003479</td>\n",
       "      <td>518.909729</td>\n",
       "      <td>518.909729</td>\n",
       "      <td>1950603827</td>\n",
       "    </tr>\n",
       "    <tr>\n",
       "      <th>4</th>\n",
       "      <td>2021-12-31</td>\n",
       "      <td>519.123047</td>\n",
       "      <td>527.697327</td>\n",
       "      <td>507.885712</td>\n",
       "      <td>511.708313</td>\n",
       "      <td>511.708313</td>\n",
       "      <td>2020489898</td>\n",
       "    </tr>\n",
       "    <tr>\n",
       "      <th>5</th>\n",
       "      <td>2022-01-01</td>\n",
       "      <td>511.910370</td>\n",
       "      <td>527.352722</td>\n",
       "      <td>511.903534</td>\n",
       "      <td>527.352722</td>\n",
       "      <td>527.352722</td>\n",
       "      <td>1622547014</td>\n",
       "    </tr>\n",
       "    <tr>\n",
       "      <th>6</th>\n",
       "      <td>2022-01-02</td>\n",
       "      <td>527.291626</td>\n",
       "      <td>533.371033</td>\n",
       "      <td>518.753540</td>\n",
       "      <td>531.396667</td>\n",
       "      <td>531.396667</td>\n",
       "      <td>1462276185</td>\n",
       "    </tr>\n",
       "    <tr>\n",
       "      <th>7</th>\n",
       "      <td>2022-01-03</td>\n",
       "      <td>531.388855</td>\n",
       "      <td>532.095581</td>\n",
       "      <td>510.652161</td>\n",
       "      <td>512.135986</td>\n",
       "      <td>512.135986</td>\n",
       "      <td>1949153130</td>\n",
       "    </tr>\n",
       "    <tr>\n",
       "      <th>8</th>\n",
       "      <td>2022-01-04</td>\n",
       "      <td>512.130310</td>\n",
       "      <td>519.701660</td>\n",
       "      <td>503.215363</td>\n",
       "      <td>507.506104</td>\n",
       "      <td>507.506104</td>\n",
       "      <td>2200879165</td>\n",
       "    </tr>\n",
       "    <tr>\n",
       "      <th>9</th>\n",
       "      <td>2022-01-05</td>\n",
       "      <td>507.597809</td>\n",
       "      <td>515.239197</td>\n",
       "      <td>462.057556</td>\n",
       "      <td>475.056946</td>\n",
       "      <td>475.056946</td>\n",
       "      <td>2870757788</td>\n",
       "    </tr>\n",
       "    <tr>\n",
       "      <th>10</th>\n",
       "      <td>2022-01-06</td>\n",
       "      <td>475.079071</td>\n",
       "      <td>481.062836</td>\n",
       "      <td>460.248505</td>\n",
       "      <td>473.275604</td>\n",
       "      <td>473.275604</td>\n",
       "      <td>4400228627</td>\n",
       "    </tr>\n",
       "    <tr>\n",
       "      <th>11</th>\n",
       "      <td>2022-01-07</td>\n",
       "      <td>473.000061</td>\n",
       "      <td>474.296204</td>\n",
       "      <td>439.260010</td>\n",
       "      <td>447.788483</td>\n",
       "      <td>447.788483</td>\n",
       "      <td>4613172287</td>\n",
       "    </tr>\n",
       "    <tr>\n",
       "      <th>12</th>\n",
       "      <td>2022-01-08</td>\n",
       "      <td>447.856812</td>\n",
       "      <td>458.483795</td>\n",
       "      <td>419.195465</td>\n",
       "      <td>430.246155</td>\n",
       "      <td>430.246155</td>\n",
       "      <td>4068139021</td>\n",
       "    </tr>\n",
       "    <tr>\n",
       "      <th>13</th>\n",
       "      <td>2022-01-09</td>\n",
       "      <td>430.253113</td>\n",
       "      <td>444.493256</td>\n",
       "      <td>428.239502</td>\n",
       "      <td>438.803070</td>\n",
       "      <td>438.803070</td>\n",
       "      <td>3347862691</td>\n",
       "    </tr>\n",
       "    <tr>\n",
       "      <th>14</th>\n",
       "      <td>2022-01-10</td>\n",
       "      <td>438.785645</td>\n",
       "      <td>445.036163</td>\n",
       "      <td>408.698792</td>\n",
       "      <td>424.933777</td>\n",
       "      <td>424.933777</td>\n",
       "      <td>4156063326</td>\n",
       "    </tr>\n",
       "    <tr>\n",
       "      <th>15</th>\n",
       "      <td>2022-01-11</td>\n",
       "      <td>424.891205</td>\n",
       "      <td>467.281067</td>\n",
       "      <td>422.000916</td>\n",
       "      <td>463.518311</td>\n",
       "      <td>463.518311</td>\n",
       "      <td>4600615710</td>\n",
       "    </tr>\n",
       "    <tr>\n",
       "      <th>16</th>\n",
       "      <td>2022-01-12</td>\n",
       "      <td>463.562744</td>\n",
       "      <td>489.327301</td>\n",
       "      <td>457.116119</td>\n",
       "      <td>487.007416</td>\n",
       "      <td>487.007416</td>\n",
       "      <td>4131335431</td>\n",
       "    </tr>\n",
       "    <tr>\n",
       "      <th>17</th>\n",
       "      <td>2022-01-13</td>\n",
       "      <td>487.042572</td>\n",
       "      <td>488.211243</td>\n",
       "      <td>467.875610</td>\n",
       "      <td>475.029114</td>\n",
       "      <td>475.029114</td>\n",
       "      <td>4151007744</td>\n",
       "    </tr>\n",
       "    <tr>\n",
       "      <th>18</th>\n",
       "      <td>2022-01-14</td>\n",
       "      <td>475.127197</td>\n",
       "      <td>491.660645</td>\n",
       "      <td>468.939606</td>\n",
       "      <td>489.867432</td>\n",
       "      <td>489.867432</td>\n",
       "      <td>3112235914</td>\n",
       "    </tr>\n",
       "    <tr>\n",
       "      <th>19</th>\n",
       "      <td>2022-01-15</td>\n",
       "      <td>489.917999</td>\n",
       "      <td>501.311127</td>\n",
       "      <td>486.305908</td>\n",
       "      <td>494.988068</td>\n",
       "      <td>494.988068</td>\n",
       "      <td>1766015929</td>\n",
       "    </tr>\n",
       "    <tr>\n",
       "      <th>20</th>\n",
       "      <td>2022-01-16</td>\n",
       "      <td>494.924103</td>\n",
       "      <td>505.300964</td>\n",
       "      <td>489.502136</td>\n",
       "      <td>498.427917</td>\n",
       "      <td>498.427917</td>\n",
       "      <td>1771927950</td>\n",
       "    </tr>\n",
       "    <tr>\n",
       "      <th>21</th>\n",
       "      <td>2022-01-17</td>\n",
       "      <td>498.506165</td>\n",
       "      <td>498.943909</td>\n",
       "      <td>468.576508</td>\n",
       "      <td>475.709869</td>\n",
       "      <td>475.709869</td>\n",
       "      <td>2134608006</td>\n",
       "    </tr>\n",
       "    <tr>\n",
       "      <th>22</th>\n",
       "      <td>2022-01-18</td>\n",
       "      <td>475.736420</td>\n",
       "      <td>479.662109</td>\n",
       "      <td>458.152466</td>\n",
       "      <td>472.005066</td>\n",
       "      <td>472.005066</td>\n",
       "      <td>2106859289</td>\n",
       "    </tr>\n",
       "    <tr>\n",
       "      <th>23</th>\n",
       "      <td>2022-01-19</td>\n",
       "      <td>471.917206</td>\n",
       "      <td>472.774292</td>\n",
       "      <td>454.758606</td>\n",
       "      <td>462.822083</td>\n",
       "      <td>462.822083</td>\n",
       "      <td>1780063381</td>\n",
       "    </tr>\n",
       "    <tr>\n",
       "      <th>24</th>\n",
       "      <td>2022-01-20</td>\n",
       "      <td>462.856964</td>\n",
       "      <td>478.353943</td>\n",
       "      <td>439.978058</td>\n",
       "      <td>440.005432</td>\n",
       "      <td>440.005432</td>\n",
       "      <td>1881741995</td>\n",
       "    </tr>\n",
       "    <tr>\n",
       "      <th>25</th>\n",
       "      <td>2022-01-21</td>\n",
       "      <td>440.067139</td>\n",
       "      <td>444.180237</td>\n",
       "      <td>376.770172</td>\n",
       "      <td>383.073914</td>\n",
       "      <td>383.073914</td>\n",
       "      <td>3647221590</td>\n",
       "    </tr>\n",
       "    <tr>\n",
       "      <th>26</th>\n",
       "      <td>2022-01-22</td>\n",
       "      <td>383.474548</td>\n",
       "      <td>388.911987</td>\n",
       "      <td>340.054810</td>\n",
       "      <td>358.096161</td>\n",
       "      <td>358.096161</td>\n",
       "      <td>4226932408</td>\n",
       "    </tr>\n",
       "    <tr>\n",
       "      <th>27</th>\n",
       "      <td>2022-01-23</td>\n",
       "      <td>358.326599</td>\n",
       "      <td>388.593903</td>\n",
       "      <td>357.170654</td>\n",
       "      <td>383.933960</td>\n",
       "      <td>383.933960</td>\n",
       "      <td>2786834863</td>\n",
       "    </tr>\n",
       "    <tr>\n",
       "      <th>28</th>\n",
       "      <td>2022-01-24</td>\n",
       "      <td>384.040619</td>\n",
       "      <td>384.040619</td>\n",
       "      <td>337.853943</td>\n",
       "      <td>371.368958</td>\n",
       "      <td>371.368958</td>\n",
       "      <td>3210871602</td>\n",
       "    </tr>\n",
       "    <tr>\n",
       "      <th>29</th>\n",
       "      <td>2022-01-25</td>\n",
       "      <td>371.386841</td>\n",
       "      <td>387.176849</td>\n",
       "      <td>358.083557</td>\n",
       "      <td>384.619354</td>\n",
       "      <td>384.619354</td>\n",
       "      <td>2325661159</td>\n",
       "    </tr>\n",
       "    <tr>\n",
       "      <th>30</th>\n",
       "      <td>2022-01-26</td>\n",
       "      <td>384.586243</td>\n",
       "      <td>400.152069</td>\n",
       "      <td>367.575104</td>\n",
       "      <td>375.755463</td>\n",
       "      <td>375.755463</td>\n",
       "      <td>2226973227</td>\n",
       "    </tr>\n",
       "    <tr>\n",
       "      <th>31</th>\n",
       "      <td>2022-01-27</td>\n",
       "      <td>374.084900</td>\n",
       "      <td>378.234619</td>\n",
       "      <td>360.761444</td>\n",
       "      <td>369.185730</td>\n",
       "      <td>369.185730</td>\n",
       "      <td>2081855232</td>\n",
       "    </tr>\n",
       "  </tbody>\n",
       "</table>\n",
       "</div>"
      ],
      "text/plain": [
       "         Date        Open        High         Low       Close   Adj Close  \\\n",
       "0  2021-12-27  546.507874  571.548889  543.506348  562.641479  562.641479   \n",
       "1  2021-12-28  563.590332  563.590332  530.059937  534.928040  534.928040   \n",
       "2  2021-12-29  534.850037  540.615784  511.745331  514.000793  514.000793   \n",
       "3  2021-12-30  514.570251  527.568298  509.003479  518.909729  518.909729   \n",
       "4  2021-12-31  519.123047  527.697327  507.885712  511.708313  511.708313   \n",
       "5  2022-01-01  511.910370  527.352722  511.903534  527.352722  527.352722   \n",
       "6  2022-01-02  527.291626  533.371033  518.753540  531.396667  531.396667   \n",
       "7  2022-01-03  531.388855  532.095581  510.652161  512.135986  512.135986   \n",
       "8  2022-01-04  512.130310  519.701660  503.215363  507.506104  507.506104   \n",
       "9  2022-01-05  507.597809  515.239197  462.057556  475.056946  475.056946   \n",
       "10 2022-01-06  475.079071  481.062836  460.248505  473.275604  473.275604   \n",
       "11 2022-01-07  473.000061  474.296204  439.260010  447.788483  447.788483   \n",
       "12 2022-01-08  447.856812  458.483795  419.195465  430.246155  430.246155   \n",
       "13 2022-01-09  430.253113  444.493256  428.239502  438.803070  438.803070   \n",
       "14 2022-01-10  438.785645  445.036163  408.698792  424.933777  424.933777   \n",
       "15 2022-01-11  424.891205  467.281067  422.000916  463.518311  463.518311   \n",
       "16 2022-01-12  463.562744  489.327301  457.116119  487.007416  487.007416   \n",
       "17 2022-01-13  487.042572  488.211243  467.875610  475.029114  475.029114   \n",
       "18 2022-01-14  475.127197  491.660645  468.939606  489.867432  489.867432   \n",
       "19 2022-01-15  489.917999  501.311127  486.305908  494.988068  494.988068   \n",
       "20 2022-01-16  494.924103  505.300964  489.502136  498.427917  498.427917   \n",
       "21 2022-01-17  498.506165  498.943909  468.576508  475.709869  475.709869   \n",
       "22 2022-01-18  475.736420  479.662109  458.152466  472.005066  472.005066   \n",
       "23 2022-01-19  471.917206  472.774292  454.758606  462.822083  462.822083   \n",
       "24 2022-01-20  462.856964  478.353943  439.978058  440.005432  440.005432   \n",
       "25 2022-01-21  440.067139  444.180237  376.770172  383.073914  383.073914   \n",
       "26 2022-01-22  383.474548  388.911987  340.054810  358.096161  358.096161   \n",
       "27 2022-01-23  358.326599  388.593903  357.170654  383.933960  383.933960   \n",
       "28 2022-01-24  384.040619  384.040619  337.853943  371.368958  371.368958   \n",
       "29 2022-01-25  371.386841  387.176849  358.083557  384.619354  384.619354   \n",
       "30 2022-01-26  384.586243  400.152069  367.575104  375.755463  375.755463   \n",
       "31 2022-01-27  374.084900  378.234619  360.761444  369.185730  369.185730   \n",
       "\n",
       "        Volume  \n",
       "0   2180356553  \n",
       "1   2791585162  \n",
       "2   2159325741  \n",
       "3   1950603827  \n",
       "4   2020489898  \n",
       "5   1622547014  \n",
       "6   1462276185  \n",
       "7   1949153130  \n",
       "8   2200879165  \n",
       "9   2870757788  \n",
       "10  4400228627  \n",
       "11  4613172287  \n",
       "12  4068139021  \n",
       "13  3347862691  \n",
       "14  4156063326  \n",
       "15  4600615710  \n",
       "16  4131335431  \n",
       "17  4151007744  \n",
       "18  3112235914  \n",
       "19  1766015929  \n",
       "20  1771927950  \n",
       "21  2134608006  \n",
       "22  2106859289  \n",
       "23  1780063381  \n",
       "24  1881741995  \n",
       "25  3647221590  \n",
       "26  4226932408  \n",
       "27  2786834863  \n",
       "28  3210871602  \n",
       "29  2325661159  \n",
       "30  2226973227  \n",
       "31  2081855232  "
      ]
     },
     "execution_count": 6,
     "metadata": {},
     "output_type": "execute_result"
    }
   ],
   "source": [
    "yData"
   ]
  },
  {
   "cell_type": "code",
   "execution_count": 7,
   "id": "a65e2240",
   "metadata": {
    "scrolled": true
   },
   "outputs": [],
   "source": [
    "prices = list(yData.Close)"
   ]
  },
  {
   "cell_type": "code",
   "execution_count": 8,
   "id": "78708d47",
   "metadata": {},
   "outputs": [],
   "source": [
    "def calculatestochastic(prices):\n",
    "    stochasticlist = []\n",
    "    for i in range(1, len(prices)-13):\n",
    "        if i == 1:\n",
    "            C = prices[-i]\n",
    "            L14 = min(prices[-i-14:])\n",
    "            H14 = max(prices[-i-14:])\n",
    "            K = ((C-L14)/(H14-L14))*100\n",
    "            stochasticlist.append(K)\n",
    "        else:\n",
    "            C = prices[-i]\n",
    "            L14 = min(prices[-i-14:-i+1])\n",
    "            H14 = max(prices[-i-14:-i+1])\n",
    "            K = ((C-L14)/(H14-L14))*100\n",
    "            stochasticlist.append(K)\n",
    "    return stochasticlist   "
   ]
  },
  {
   "cell_type": "code",
   "execution_count": 9,
   "id": "a2966f5e",
   "metadata": {},
   "outputs": [
    {
     "data": {
      "text/plain": [
       "32.823081971374855"
      ]
     },
     "execution_count": 9,
     "metadata": {},
     "output_type": "execute_result"
    }
   ],
   "source": [
    "def calculateslowstochastic(prices):\n",
    "    sumK = 0\n",
    "    smalist = calculatestochastic(prices)\n",
    "    for i in (smalist):\n",
    "        sumK = sumK + i\n",
    "    itemlen = len(smalist)\n",
    "    SMAK = sumK/itemlen\n",
    "    return SMAK\n",
    "calculateslowstochastic(prices)"
   ]
  },
  {
   "cell_type": "code",
   "execution_count": 10,
   "id": "9ea12e2a",
   "metadata": {},
   "outputs": [
    {
     "data": {
      "text/plain": [
       "18"
      ]
     },
     "execution_count": 10,
     "metadata": {},
     "output_type": "execute_result"
    }
   ],
   "source": [
    "len(calculatestochastic(prices))"
   ]
  },
  {
   "cell_type": "code",
   "execution_count": 11,
   "id": "29ec10f8",
   "metadata": {},
   "outputs": [],
   "source": [
    "sonuclist = [50,50,50,50,50,50,50,50,50,50,50,50,50,50]\n",
    "for i in range(0,len(calculatestochastic(prices))):\n",
    "    sonuclist.append(calculatestochastic(prices)[-i])"
   ]
  },
  {
   "cell_type": "code",
   "execution_count": 12,
   "id": "aede2b89",
   "metadata": {},
   "outputs": [
    {
     "data": {
      "text/plain": [
       "32"
      ]
     },
     "execution_count": 12,
     "metadata": {},
     "output_type": "execute_result"
    }
   ],
   "source": [
    "len(sonuclist)"
   ]
  },
  {
   "cell_type": "code",
   "execution_count": 13,
   "id": "3dc65ede",
   "metadata": {},
   "outputs": [],
   "source": [
    "cizimlist = []\n",
    "for i in sonuclist:\n",
    "    a = i/100+4\n",
    "    cizimlist.append(a)"
   ]
  },
  {
   "cell_type": "code",
   "execution_count": 14,
   "id": "ddf79524",
   "metadata": {},
   "outputs": [
    {
     "data": {
      "text/plain": [
       "[<matplotlib.lines.Line2D at 0x21083b08280>]"
      ]
     },
     "execution_count": 14,
     "metadata": {},
     "output_type": "execute_result"
    },
    {
     "data": {
      "image/png": "[encoded data removed]",
      "text/plain": [
       "<Figure size 432x288 with 1 Axes>"
      ]
     },
     "metadata": {
      "needs_background": "light"
     },
     "output_type": "display_data"
    }
   ],
   "source": [
    "plt.plot(sonuclist[15:70])"
   ]
  },
  {
   "cell_type": "code",
   "execution_count": 15,
   "id": "eaff8c29",
   "metadata": {},
   "outputs": [
    {
     "data": {
      "text/plain": [
       "[<matplotlib.lines.Line2D at 0x210842ae7f0>]"
      ]
     },
     "execution_count": 15,
     "metadata": {},
     "output_type": "execute_result"
    },
    {
     "data": {
      "image/png": "[encoded data removed]",
      "text/plain": [
       "<Figure size 432x288 with 1 Axes>"
      ]
     },
     "metadata": {
      "needs_background": "light"
     },
     "output_type": "display_data"
    }
   ],
   "source": [
    "plt.plot(prices[15:70])"
   ]
  },
  {
   "cell_type": "code",
   "execution_count": 16,
   "id": "0f2c5a13",
   "metadata": {},
   "outputs": [
    {
     "data": {
      "text/plain": [
       "[<matplotlib.lines.Line2D at 0x210852fc9a0>]"
      ]
     },
     "execution_count": 16,
     "metadata": {},
     "output_type": "execute_result"
    },
    {
     "data": {
      "image/png": "[encoded data removed]",
      "text/plain": [
       "<Figure size 1440x216 with 1 Axes>"
      ]
     },
     "metadata": {
      "needs_background": "light"
     },
     "output_type": "display_data"
    }
   ],
   "source": [
    "plt.figure(figsize=(20,3))\n",
    "plt.plot(cizimlist[15:70],color=\"red\")\n",
    "plt.plot(prices[15:70],color=\"blue\")"
   ]
  },
  {
   "cell_type": "code",
   "execution_count": 17,
   "id": "278311ad",
   "metadata": {},
   "outputs": [],
   "source": [
    "lower_band = 20\n",
    "upper_band = 80\n",
    "buy_price = []\n",
    "sell_price = []\n",
    "stochastic_signal = []\n",
    "signal = 0\n",
    "\n",
    "for element in range(0,len(sonuclist)):\n",
    "    if ((sonuclist[element - 1] > lower_band) and (sonuclist[element] < lower_band)):\n",
    "        if (signal != 1):\n",
    "            buy_price.append(prices[element])\n",
    "            sell_price.append(np.nan)\n",
    "            signal = 1\n",
    "            stochastic_signal.append(signal)\n",
    "        else:\n",
    "            buy_price.append(np.nan)\n",
    "            sell_price.append(np.nan)\n",
    "            stochastic_signal.append(0)\n",
    "\n",
    "    elif ((sonuclist[element - 1] < upper_band) and (sonuclist[element] > upper_band)):\n",
    "        if (signal != -1):\n",
    "            buy_price.append(np.nan)\n",
    "            sell_price.append(prices[element])\n",
    "            signal = -1\n",
    "            stochastic_signal.append(signal)\n",
    "        else:\n",
    "            buy_price.append(np.nan)\n",
    "            sell_price.append(np.nan)\n",
    "            stochastic_signal.append(0)\n",
    "    else:\n",
    "        buy_price.append(np.nan)\n",
    "        sell_price.append(np.nan)\n",
    "        stochastic_signal.append(0)"
   ]
  },
  {
   "cell_type": "code",
   "execution_count": 18,
   "id": "c77540b0",
   "metadata": {},
   "outputs": [
    {
     "data": {
      "text/plain": [
       "[0,\n",
       " 0,\n",
       " 0,\n",
       " 0,\n",
       " 0,\n",
       " 0,\n",
       " 0,\n",
       " 0,\n",
       " 0,\n",
       " 0,\n",
       " 0,\n",
       " 0,\n",
       " 0,\n",
       " 0,\n",
       " 1,\n",
       " 0,\n",
       " 0,\n",
       " 0,\n",
       " 0,\n",
       " 0,\n",
       " 0,\n",
       " 0,\n",
       " 0,\n",
       " 0,\n",
       " 0,\n",
       " 0,\n",
       " 0,\n",
       " 0,\n",
       " 0,\n",
       " 0,\n",
       " 0,\n",
       " 0]"
      ]
     },
     "execution_count": 18,
     "metadata": {},
     "output_type": "execute_result"
    }
   ],
   "source": [
    "stochastic_signal"
   ]
  },
  {
   "cell_type": "code",
   "execution_count": 19,
   "id": "852598ad",
   "metadata": {},
   "outputs": [
    {
     "name": "stdout",
     "output_type": "stream",
     "text": [
      "32\n"
     ]
    },
    {
     "data": {
      "text/plain": [
       "32"
      ]
     },
     "execution_count": 19,
     "metadata": {},
     "output_type": "execute_result"
    }
   ],
   "source": [
    "print(len(stochastic_signal))\n",
    "len(prices)"
   ]
  },
  {
   "cell_type": "code",
   "execution_count": 20,
   "id": "fe166e7b",
   "metadata": {},
   "outputs": [
    {
     "data": {
      "text/plain": [
       "[nan,\n",
       " nan,\n",
       " nan,\n",
       " nan,\n",
       " nan,\n",
       " nan,\n",
       " nan,\n",
       " nan,\n",
       " nan,\n",
       " nan,\n",
       " nan,\n",
       " nan,\n",
       " nan,\n",
       " nan,\n",
       " 424.93377685546875,\n",
       " nan,\n",
       " nan,\n",
       " nan,\n",
       " nan,\n",
       " nan,\n",
       " nan,\n",
       " nan,\n",
       " nan,\n",
       " nan,\n",
       " nan,\n",
       " nan,\n",
       " nan,\n",
       " nan,\n",
       " nan,\n",
       " nan,\n",
       " nan,\n",
       " nan]"
      ]
     },
     "execution_count": 20,
     "metadata": {},
     "output_type": "execute_result"
    }
   ],
   "source": [
    "buy_price"
   ]
  },
  {
   "cell_type": "code",
   "execution_count": 21,
   "id": "94a76bcc",
   "metadata": {},
   "outputs": [
    {
     "data": {
      "text/plain": [
       "[nan,\n",
       " nan,\n",
       " nan,\n",
       " nan,\n",
       " nan,\n",
       " nan,\n",
       " nan,\n",
       " nan,\n",
       " nan,\n",
       " nan,\n",
       " nan,\n",
       " nan,\n",
       " nan,\n",
       " nan,\n",
       " nan,\n",
       " nan,\n",
       " nan,\n",
       " nan,\n",
       " nan,\n",
       " nan,\n",
       " nan,\n",
       " nan,\n",
       " nan,\n",
       " nan,\n",
       " nan,\n",
       " nan,\n",
       " nan,\n",
       " nan,\n",
       " nan,\n",
       " nan,\n",
       " nan,\n",
       " nan]"
      ]
     },
     "execution_count": 21,
     "metadata": {},
     "output_type": "execute_result"
    }
   ],
   "source": [
    "sell_price"
   ]
  },
  {
   "cell_type": "code",
   "execution_count": 22,
   "id": "c5806791",
   "metadata": {},
   "outputs": [],
   "source": [
    "investmenValue = yData['Close'][0] * 5\n",
    "firstInvestment = investmenValue\n",
    "decisionFlag = False\n",
    "stockNumber = round(investmenValue / yData['Close'][0])\n",
    "\n",
    "\n",
    "\n",
    "for i in range(0, len(stochastic_signal)):\n",
    "    if (stochastic_signal[i] != 0):\n",
    "        if (decisionFlag == False):\n",
    "            if(stochastic_signal[i] == 1):\n",
    "                decisionFlag = True\n",
    "            elif(stochastic_signal[i] == -1):\n",
    "                decisionFlag = True\n",
    "                investmenValue = yData[\"Close\"][i] * stockNumber    \n",
    "        else:\n",
    "            if (stochastic_signal[i] == 1):\n",
    "                stockNumber = round(investmenValue / yData['Close'][i])\n",
    "                investmenValue = 0\n",
    "            elif (stochastic_signal[i] == -1):\n",
    "                investmenValue = yData['Close'][i] * stockNumber\n",
    "                stockNumber = 0\n",
    "                    \n",
    "if (investmenValue == 0):\n",
    "    investmenValue = yData['Close'][len(yData) - 1] * stockNumber\n",
    "    stockNumber = 0"
   ]
  },
  {
   "cell_type": "code",
   "execution_count": 23,
   "id": "1e04745b",
   "metadata": {},
   "outputs": [
    {
     "name": "stdout",
     "output_type": "stream",
     "text": [
      "%  0.0\n",
      "0.0\n"
     ]
    }
   ],
   "source": [
    "print(\"% \",(investmenValue - firstInvestment) / firstInvestment * 100)\n",
    "print(investmenValue - firstInvestment)"
   ]
  }
 ],
 "metadata": {
  "kernelspec": {
   "display_name": "Python 3 (ipykernel)",
   "language": "python",
   "name": "python3"
  },
  "language_info": {
   "codemirror_mode": {
    "name": "ipython",
    "version": 3
   },
   "file_extension": ".py",
   "mimetype": "text/x-python",
   "name": "python",
   "nbconvert_exporter": "python",
   "pygments_lexer": "ipython3",
   "version": "3.9.7"
  }
 },
 "nbformat": 4,
 "nbformat_minor": 5
}
