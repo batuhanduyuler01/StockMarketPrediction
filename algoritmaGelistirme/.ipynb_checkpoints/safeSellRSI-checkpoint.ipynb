{
 "cells": [
  {
   "cell_type": "code",
   "execution_count": 1,
   "id": "6145b30c",
   "metadata": {},
   "outputs": [],
   "source": [
    "import sys\n",
    "sys.path.append(\"../../current_work/\")\n",
    "from pandas.core.indexing import maybe_convert_ix\n",
    "import PredictionManager as pm\n",
    "import backtest_class as backTest\n",
    "import yFinance_class as yfHelper"
   ]
  },
  {
   "cell_type": "markdown",
   "id": "2da52877",
   "metadata": {},
   "source": [
    "## Data'nın indirilmesi"
   ]
  },
  {
   "cell_type": "code",
   "execution_count": 2,
   "id": "8f168833",
   "metadata": {},
   "outputs": [],
   "source": [
    "# use \"period\" instead of start/end\n",
    "        # valid periods: 1d,5d,1mo,3mo,6mo,1y,2y,5y,10y,ytd,max\n",
    "        # (optional, default is '1mo')\n",
    "        #period = \"ytd\",\n",
    "\n",
    "# fetch data by interval (including intraday if period < 60 days)\n",
    "        # valid intervals: 1m,2m,5m,15m,30m,60m,90m,1h,1d,5d,1wk,1mo,3mo\n",
    "        # (optional, default is '1d')\n",
    "        #interval = \"1m\","
   ]
  },
  {
   "cell_type": "code",
   "execution_count": 3,
   "id": "5e5b74ca",
   "metadata": {},
   "outputs": [],
   "source": [
    "userInput = \"ETH-USD\"\n",
    "period = '3mo'\n",
    "interval = '1d'"
   ]
  },
  {
   "cell_type": "code",
   "execution_count": 4,
   "id": "30fd9b88",
   "metadata": {},
   "outputs": [
    {
     "name": "stdout",
     "output_type": "stream",
     "text": [
      "[*********************100%***********************]  1 of 1 completed\n"
     ]
    }
   ],
   "source": [
    "yData = yfHelper.yFinance(userInput.upper(), period, interval).getData()"
   ]
  },
  {
   "cell_type": "code",
   "execution_count": 5,
   "id": "f137e3f0",
   "metadata": {},
   "outputs": [
    {
     "data": {
      "text/plain": [
       "Date         2021-09-12 00:00:00\n",
       "Open                     3270.29\n",
       "High                     3462.47\n",
       "Low                      3235.11\n",
       "Close                    3410.13\n",
       "Adj Close                3410.13\n",
       "Volume               16810411424\n",
       "Name: 0, dtype: object"
      ]
     },
     "execution_count": 5,
     "metadata": {},
     "output_type": "execute_result"
    }
   ],
   "source": [
    "yData.iloc[0]"
   ]
  },
  {
   "cell_type": "code",
   "execution_count": 6,
   "id": "5b4057c9",
   "metadata": {},
   "outputs": [
    {
     "data": {
      "text/plain": [
       "Date         2021-12-12 00:00:00\n",
       "Open                     4086.88\n",
       "High                     4089.42\n",
       "Low                      4058.37\n",
       "Close                    4069.83\n",
       "Adj Close                4069.83\n",
       "Volume               17862746112\n",
       "Name: 90, dtype: object"
      ]
     },
     "execution_count": 6,
     "metadata": {},
     "output_type": "execute_result"
    }
   ],
   "source": [
    "yData.iloc[-1]"
   ]
  },
  {
   "cell_type": "markdown",
   "id": "7cceb036",
   "metadata": {},
   "source": [
    "## RSI parametresinin çıkartılması"
   ]
  },
  {
   "cell_type": "code",
   "execution_count": 7,
   "id": "1ebfa4d2",
   "metadata": {},
   "outputs": [],
   "source": [
    "import pandas as pd\n",
    "import numpy as np"
   ]
  },
  {
   "cell_type": "code",
   "execution_count": 8,
   "id": "f63575b8",
   "metadata": {},
   "outputs": [],
   "source": [
    "close = yData.Close\n",
    "ret = close.diff() #(n+1).gün - n.gün\n",
    "up = []\n",
    "down = [] \n",
    "\n",
    "for element in range(0, len(ret)):\n",
    "    if (ret[element] < np.float(0)):\n",
    "        up.append(0)\n",
    "        down.append(ret[element])\n",
    "    elif (ret[element] >= np.float(0)):\n",
    "        up.append(ret[element])\n",
    "        down.append(0)\n",
    "        \n",
    "upSeries = pd.Series(up)\n",
    "downSeries = pd.Series(down).abs()"
   ]
  },
  {
   "cell_type": "code",
   "execution_count": 9,
   "id": "3b33e552",
   "metadata": {},
   "outputs": [
    {
     "data": {
      "text/plain": [
       "0       0.000000\n",
       "1    -124.622803\n",
       "2     143.657959\n",
       "3     186.113037\n",
       "4     -43.987793\n",
       "         ...    \n",
       "86    -43.675781\n",
       "87    124.296387\n",
       "88   -319.541992\n",
       "89   -211.319824\n",
       "90    161.331787\n",
       "Name: Close, Length: 91, dtype: float64"
      ]
     },
     "execution_count": 9,
     "metadata": {},
     "output_type": "execute_result"
    }
   ],
   "source": [
    "ret = ret.replace(np.nan, 0)\n",
    "ret"
   ]
  },
  {
   "cell_type": "code",
   "execution_count": 10,
   "id": "d9eb9b5a",
   "metadata": {},
   "outputs": [],
   "source": [
    "lookback = 7\n",
    "upEwm = upSeries.ewm(com = lookback -1, adjust = False).mean()\n",
    "downEwm = downSeries.ewm(com = lookback -1, adjust = False).mean()"
   ]
  },
  {
   "cell_type": "code",
   "execution_count": 11,
   "id": "c33dacda",
   "metadata": {},
   "outputs": [],
   "source": [
    "rs = upEwm / downEwm\n",
    "rsi = 100 - (100 / (1 + rs))"
   ]
  },
  {
   "cell_type": "code",
   "execution_count": 12,
   "id": "6fa8fe17",
   "metadata": {},
   "outputs": [],
   "source": [
    "close = close.drop(index = close.index[0])\n",
    "temp_df = pd.DataFrame(rsi).rename(columns={0 : 'rsi'}).set_index(close.index)\n"
   ]
  },
  {
   "cell_type": "code",
   "execution_count": 13,
   "id": "dad1d072",
   "metadata": {},
   "outputs": [
    {
     "name": "stdout",
     "output_type": "stream",
     "text": [
      "toplam gün sayısı: 91\n",
      "rsi veri gün sayısı: 90\n"
     ]
    }
   ],
   "source": [
    "print(\"toplam gün sayısı:\", len(yData))\n",
    "print(\"rsi veri gün sayısı:\", len(rsi))"
   ]
  },
  {
   "cell_type": "code",
   "execution_count": 14,
   "id": "f3d8cfea",
   "metadata": {},
   "outputs": [],
   "source": [
    "#bu işlemi yapmamızın sebebi hesaplamalarda ilk iki gün \n",
    "#RSI değerinin 100 çıkması\n",
    "#o yüzden ilk 2 günü pass geçiyoruz hatta 3 günü de geçebiliriz.\n",
    "yData[\"RSI_14\"] = temp_df[2:]"
   ]
  },
  {
   "cell_type": "markdown",
   "id": "e4ffc9e0",
   "metadata": {},
   "source": [
    "## Algoritmanın geliştirilmesi"
   ]
  },
  {
   "cell_type": "markdown",
   "id": "0132a757",
   "metadata": {},
   "source": [
    "### 1- RSI ile alım satım"
   ]
  },
  {
   "cell_type": "code",
   "execution_count": 15,
   "id": "d8b0fcb3",
   "metadata": {},
   "outputs": [],
   "source": [
    "lower_band = np.float(30)\n",
    "upper_band = np.float(70)\n",
    "signal = 0 #sinyal parametresi sattıysak -1 aldıysak 1 olacak.\n",
    "rsi_signal = []\n",
    "buy_price = [] #alım yaptıgımızda alım fiyatını ekledigimiz liste\n",
    "sell_price = []#satış yaptıgımızda satış fiyatını ekledigimiz liste\n",
    "rsi = yData.RSI_14\n",
    "prices = yData.Close\n",
    "def wait_for_signal(buyList, sellList, signalList):\n",
    "    buyList.append(np.nan)\n",
    "    sellList.append(np.nan)\n",
    "    signalList.append(0)\n",
    "    \n",
    "def fill_buy_signal(buyList,buyPrice, sellList, signalList):\n",
    "    buyList.append(buyPrice)\n",
    "    sellList.append(np.nan)\n",
    "    signalList.append(1)\n",
    "    \n",
    "def fill_sell_signal(buyList, sellList, sellPrice, signalList):\n",
    "    buyList.append(np.nan)\n",
    "    sellList.append(sellPrice)\n",
    "    signalList.append(-1)\n",
    "    \n",
    "for element in range(1, len(rsi)):\n",
    "    if ((rsi[element - 1] > lower_band) and (rsi[element] < lower_band)):\n",
    "        #eğer rsi değeri 30'un üstünden 30'un altına geçiş yaptıysa\n",
    "        #alım yapmak istiyoruz\n",
    "        #ancak iki kere alım yapamayacağımızdan sinyal kontrolü yap.\n",
    "        if (signal != 1):\n",
    "            fill_buy_signal(buy_price, prices[element], sell_price, rsi_signal)\n",
    "            signal = 1\n",
    "        else:\n",
    "            wait_for_signal(buy_price, sell_price, rsi_signal)\n",
    "            \n",
    "    elif((rsi[element - 1] < upper_band) and (rsi[element] > upper_band)):\n",
    "        #eğer rsi değeri 70'in altındaysa ve 70'in üstüne geçiş yaptıysa\n",
    "        #satış yapmak istiyoruz\n",
    "        #ancak iki kere satış yapamacağımızdan sinyal kontrolü yap\n",
    "        if (signal != -1):\n",
    "            fill_sell_signal(buy_price, sell_price, prices[element], rsi_signal)\n",
    "            signal = -1\n",
    "        else:\n",
    "            wait_for_signal(buy_price, sell_price, rsi_signal)\n",
    "            \n",
    "    else:\n",
    "        wait_for_signal(buy_price, sell_price, rsi_signal)\n",
    "            \n",
    "            \n",
    "        "
   ]
  },
  {
   "cell_type": "code",
   "execution_count": 16,
   "id": "bc28b74f",
   "metadata": {},
   "outputs": [
    {
     "name": "stdout",
     "output_type": "stream",
     "text": [
      "%  -4.523933464352687\n",
      "-771.361083984375\n"
     ]
    }
   ],
   "source": [
    "investmenValue = yData['Close'][0] * 5\n",
    "firstInvestment = investmenValue\n",
    "decisionFlag = False\n",
    "stockNumber = round(investmenValue / yData['Close'][0])\n",
    "\n",
    "\n",
    "for i in range(0, len(rsi) - 1):\n",
    "    if (rsi_signal[i] != 0):\n",
    "        if (decisionFlag == False):\n",
    "            if(rsi_signal[i] == 1):\n",
    "                decisionFlag = True\n",
    "            elif(rsi_signal[i] == -1):\n",
    "                decisionFlag = True\n",
    "                investmenValue = yData[\"Close\"][i+1] * stockNumber    \n",
    "        else:\n",
    "            if (rsi_signal[i] == 1):\n",
    "                stockNumber = round(investmenValue / yData['Close'][i+1])\n",
    "                investmenValue = 0\n",
    "            elif (rsi_signal[i] == -1):\n",
    "                investmenValue = yData['Close'][i+1] * stockNumber\n",
    "\n",
    "                stockNumber = 0\n",
    "      \n",
    "\n",
    "\n",
    "if (investmenValue == 0.0):\n",
    "    investmenValue = yData['Close'][len(yData) - 1] * stockNumber\n",
    "    stockNumber = 0\n",
    "    \n",
    "print(\"% \",(investmenValue - firstInvestment) / firstInvestment * 100)\n",
    "print(investmenValue - firstInvestment)"
   ]
  },
  {
   "cell_type": "code",
   "execution_count": 17,
   "id": "0b21cdcd",
   "metadata": {},
   "outputs": [
    {
     "name": "stdout",
     "output_type": "stream",
     "text": [
      "işlem yapılmasa durum: % 0.1934508316955914\n"
     ]
    }
   ],
   "source": [
    "print(\"işlem yapılmasa durum: %\",(yData.Close.iloc[-1] - yData.Close.iloc[0]) / yData.Close.iloc[0])"
   ]
  },
  {
   "cell_type": "code",
   "execution_count": 18,
   "id": "ea33172d",
   "metadata": {},
   "outputs": [
    {
     "name": "stdout",
     "output_type": "stream",
     "text": [
      "alım satım sayısı:  3\n",
      "veri uzunlugu:  91\n"
     ]
    }
   ],
   "source": [
    "alim_satim = 0\n",
    "for i in rsi_signal:\n",
    "    alim_satim += abs(i)\n",
    "    \n",
    "print(\"alım satım sayısı: \", alim_satim)\n",
    "print(\"veri uzunlugu: \", len(yData))"
   ]
  },
  {
   "cell_type": "markdown",
   "id": "c0648417",
   "metadata": {},
   "source": [
    "### 2- Safe Sell RSI algoritması"
   ]
  },
  {
   "cell_type": "code",
   "execution_count": 24,
   "id": "39554e4e",
   "metadata": {},
   "outputs": [],
   "source": [
    "lower_band = np.float(30)\n",
    "upper_band = np.float(70)\n",
    "signal = 0 #sinyal parametresi sattıysak -1 aldıysak 1 olacak.\n",
    "rsi_signal = []\n",
    "buy_price = [] #alım yaptıgımızda alım fiyatını ekledigimiz liste\n",
    "sell_price = []#satış yaptıgımızda satış fiyatını ekledigimiz liste\n",
    "rsi = yData.RSI_14\n",
    "beklenenKar = 1.0\n",
    "prices = yData.Close\n",
    "lastBuyPrice = []\n",
    "def wait_for_signal(buyList, sellList, signalList):\n",
    "    buyList.append(np.nan)\n",
    "    sellList.append(np.nan)\n",
    "    signalList.append(0)\n",
    "    \n",
    "def fill_buy_signal(buyList,buyPrice, sellList, signalList):\n",
    "    buyList.append(buyPrice)\n",
    "    sellList.append(np.nan)\n",
    "    signalList.append(1)\n",
    "    \n",
    "def fill_sell_signal(buyList, sellList, sellPrice, signalList):\n",
    "    buyList.append(np.nan)\n",
    "    sellList.append(sellPrice)\n",
    "    signalList.append(-1)\n",
    "    \n",
    "for element in range(1, len(rsi)):\n",
    "    if ((rsi[element - 1] > lower_band) and (rsi[element] < lower_band)):\n",
    "        #eğer rsi değeri 30'un üstünden 30'un altına geçiş yaptıysa\n",
    "        #alım yapmak istiyoruz\n",
    "        #ancak iki kere alım yapamayacağımızdan sinyal kontrolü yap.\n",
    "        if (signal != 1):\n",
    "            fill_buy_signal(buy_price, prices[element], sell_price, rsi_signal)\n",
    "            signal = 1\n",
    "            lastBuyPrice.append(prices[element])\n",
    "        else:\n",
    "            #RSI alım sinyali verdi ama zaten alım yapmışız\n",
    "            #fakat karımız %5 üzerindeyse satış yapmak istiyoruz.\n",
    "            #o yüzden ilk önce fiyat düşüşte mi ona bakıyoruz\n",
    "            if (prices[element - 1] > prices[element]):\n",
    "                #eğer düşüşteyse aldığımız fiyattan yüksek mi\n",
    "                #onu kontrol etmeliyiz.\n",
    "                if (prices[element] > lastBuyPrice[-1]):\n",
    "                    #eğer öyleyse karımızı hesaplamalıyız\n",
    "                    lossPortion = (prices[element] - lastBuyPrice[-1]) / lastBuyPrice[-1]\n",
    "                    if (lossPortion > beklenenKar ):\n",
    "                        print(lossPortion)\n",
    "                        fill_sell_signal(buy_price, sell_price, prices[element], rsi_signal)\n",
    "                        signal = -1\n",
    "                    else:\n",
    "                        wait_for_signal(buy_price, sell_price, rsi_signal)\n",
    "                else:\n",
    "                    wait_for_signal(buy_price, sell_price, rsi_signal)\n",
    "            else:\n",
    "                wait_for_signal(buy_price, sell_price, rsi_signal)\n",
    "            \n",
    "    elif((rsi[element - 1] < upper_band) and (rsi[element] > upper_band)):\n",
    "        #eğer rsi değeri 70'in altındaysa ve 70'in üstüne geçiş yaptıysa\n",
    "        #satış yapmak istiyoruz\n",
    "        #ancak iki kere satış yapamacağımızdan sinyal kontrolü yap\n",
    "        if (signal != -1):\n",
    "            fill_sell_signal(buy_price, sell_price, prices[element], rsi_signal)\n",
    "            signal = -1\n",
    "        else:\n",
    "            wait_for_signal(buy_price, sell_price, rsi_signal)\n",
    "         #satış pozisyonunda bir daha satış yapamayacağımızdan burayı pass geçiyoruz.   \n",
    "    else:\n",
    "        #eğer bu durumlardan biri yaşanmadıysa, karı kontrol edebiliriz.\n",
    "        #ilk olarak sinyal alım pozisyonunda mı ona bakıyoruz.\n",
    "        if (signal == 1):\n",
    "            if (prices[element - 1] > prices[element]):\n",
    "                #fiyat düşüştüyse tespit ettik.\n",
    "                if (prices[element] > lastBuyPrice[-1]):\n",
    "                    #karda olup olmadığımızı kontrol ettik\n",
    "                    lossPortion = (prices[element] - lastBuyPrice[-1]) / lastBuyPrice[-1]\n",
    "                    if (lossPortion > beklenenKar):\n",
    "                        fill_sell_signal(buy_price, sell_price, prices[element], rsi_signal)\n",
    "                        signal = -1\n",
    "                    else:\n",
    "                        wait_for_signal(buy_price, sell_price, rsi_signal) \n",
    "                else:\n",
    "                    wait_for_signal(buy_price, sell_price, rsi_signal)\n",
    "            else:\n",
    "                wait_for_signal(buy_price, sell_price, rsi_signal)\n",
    "        else:\n",
    "            wait_for_signal(buy_price, sell_price, rsi_signal)\n",
    "            \n",
    "        "
   ]
  },
  {
   "cell_type": "code",
   "execution_count": 25,
   "id": "d9104e54",
   "metadata": {},
   "outputs": [
    {
     "name": "stdout",
     "output_type": "stream",
     "text": [
      "alım satım sayısı:  4\n",
      "veri uzunlugu:  91\n"
     ]
    }
   ],
   "source": [
    "alim_satim = 0\n",
    "for i in rsi_signal:\n",
    "    alim_satim += abs(i)\n",
    "    \n",
    "print(\"alım satım sayısı: \", alim_satim)\n",
    "print(\"veri uzunlugu: \", len(yData))"
   ]
  },
  {
   "cell_type": "code",
   "execution_count": 26,
   "id": "ee837f84",
   "metadata": {},
   "outputs": [
    {
     "data": {
      "text/plain": [
       "[3398.538818359375, 4216.365234375]"
      ]
     },
     "execution_count": 26,
     "metadata": {},
     "output_type": "execute_result"
    }
   ],
   "source": [
    "lastBuyPrice"
   ]
  },
  {
   "cell_type": "code",
   "execution_count": 21,
   "id": "bfef6746",
   "metadata": {},
   "outputs": [],
   "source": [
    "investmenValue = yData['Close'][0] * 5\n",
    "firstInvestment = investmenValue\n",
    "decisionFlag = False\n",
    "stockNumber = round(investmenValue / yData['Close'][0])\n",
    "\n",
    "\n",
    "\n",
    "for i in range(0, len(rsi) - 1):\n",
    "    if (rsi_signal[i] != 0):\n",
    "        if (decisionFlag == False):\n",
    "            if(rsi_signal[i] == 1):\n",
    "                decisionFlag = True\n",
    "            elif(rsi_signal[i] == -1):\n",
    "                decisionFlag = True\n",
    "                investmenValue = yData[\"Close\"][i+1] * stockNumber    \n",
    "        else:\n",
    "            if (rsi_signal[i] == 1):\n",
    "                stockNumber = round(investmenValue / yData['Close'][i+1])\n",
    "                investmenValue = 0\n",
    "            elif (rsi_signal[i] == -1):\n",
    "                investmenValue = yData['Close'][i+1] * stockNumber\n",
    "                stockNumber = 0\n",
    "                    \n",
    "if (investmenValue == 0):\n",
    "    investmenValue = yData['Close'][len(yData) - 1] * stockNumber\n",
    "    stockNumber = 0"
   ]
  },
  {
   "cell_type": "code",
   "execution_count": 22,
   "id": "80e2f8ae",
   "metadata": {},
   "outputs": [
    {
     "name": "stdout",
     "output_type": "stream",
     "text": [
      "%  0.1657355921010665\n",
      "28.259033203125\n"
     ]
    }
   ],
   "source": [
    "print(\"% \",(investmenValue - firstInvestment) / firstInvestment * 100)\n",
    "print(investmenValue - firstInvestment)"
   ]
  },
  {
   "cell_type": "code",
   "execution_count": 23,
   "id": "1bafbcd5",
   "metadata": {},
   "outputs": [
    {
     "name": "stdout",
     "output_type": "stream",
     "text": [
      "işlem yapılmasa durum: % 0.1934508316955914\n"
     ]
    }
   ],
   "source": [
    "print(\"işlem yapılmasa durum: %\",(yData.Close.iloc[-1] - yData.Close.iloc[0]) / yData.Close.iloc[0])"
   ]
  }
 ],
 "metadata": {
  "kernelspec": {
   "display_name": "Python 3",
   "language": "python",
   "name": "python3"
  },
  "language_info": {
   "codemirror_mode": {
    "name": "ipython",
    "version": 3
   },
   "file_extension": ".py",
   "mimetype": "text/x-python",
   "name": "python",
   "nbconvert_exporter": "python",
   "pygments_lexer": "ipython3",
   "version": "3.8.8"
  }
 },
 "nbformat": 4,
 "nbformat_minor": 5
}
