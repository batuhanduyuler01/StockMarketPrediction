{
 "cells": [
  {
   "cell_type": "code",
   "execution_count": 1,
   "id": "6145b30c",
   "metadata": {},
   "outputs": [],
   "source": [
    "import sys\n",
    "sys.path.append(\"../../current_work/\")\n",
    "from pandas.core.indexing import maybe_convert_ix\n",
    "import PredictionManager as pm\n",
    "import backtest_class as backTest\n",
    "import yFinance_class as yfHelper\n",
    "import pandas as pd"
   ]
  },
  {
   "cell_type": "markdown",
   "id": "fd41d4d3",
   "metadata": {},
   "source": [
    "## Data'nın indirilmesi"
   ]
  },
  {
   "cell_type": "code",
   "execution_count": 2,
   "id": "ad2d0f0f",
   "metadata": {},
   "outputs": [],
   "source": [
    "# use \"period\" instead of start/end\n",
    "        # valid periods: 1d,5d,1mo,3mo,6mo,1y,2y,5y,10y,ytd,max\n",
    "        # (optional, default is '1mo')\n",
    "        #period = \"ytd\",\n",
    "\n",
    "# fetch data by interval (including intraday if period < 60 days)\n",
    "        # valid intervals: 1m,2m,5m,15m,30m,60m,90m,1h,1d,5d,1wk,1mo,3mo\n",
    "        # (optional, default is '1d')\n",
    "        #interval = \"1m\","
   ]
  },
  {
   "cell_type": "code",
   "execution_count": 3,
   "id": "5e5b74ca",
   "metadata": {},
   "outputs": [],
   "source": [
    "userInput = \"SASA.IS\"\n",
    "period = '1y'\n",
    "interval = '1d'"
   ]
  },
  {
   "cell_type": "code",
   "execution_count": 4,
   "id": "05c20d5b",
   "metadata": {},
   "outputs": [
    {
     "name": "stdout",
     "output_type": "stream",
     "text": [
      "[*********************100%***********************]  1 of 1 completed\n"
     ]
    }
   ],
   "source": [
    "yData = yfHelper.yFinance(userInput.upper(), period, interval).getData()"
   ]
  },
  {
   "cell_type": "code",
   "execution_count": 5,
   "id": "7f8cd0ad",
   "metadata": {},
   "outputs": [
    {
     "data": {
      "text/plain": [
       "Date         2021-01-14 00:00:00\n",
       "Open                   17.400364\n",
       "High                   17.993221\n",
       "Low                    16.940901\n",
       "Close                  17.237328\n",
       "Adj Close              17.237328\n",
       "Volume                  23535028\n",
       "Name: 0, dtype: object"
      ]
     },
     "execution_count": 5,
     "metadata": {},
     "output_type": "execute_result"
    }
   ],
   "source": [
    "yData.iloc[0]"
   ]
  },
  {
   "cell_type": "code",
   "execution_count": 6,
   "id": "407d95aa",
   "metadata": {},
   "outputs": [
    {
     "data": {
      "text/plain": [
       "Date         2022-01-14 00:00:00\n",
       "Open                        53.0\n",
       "High                   54.650002\n",
       "Low                        52.75\n",
       "Close                  53.650002\n",
       "Adj Close              53.650002\n",
       "Volume                  16438281\n",
       "Name: 250, dtype: object"
      ]
     },
     "execution_count": 6,
     "metadata": {},
     "output_type": "execute_result"
    }
   ],
   "source": [
    "yData.iloc[-1]"
   ]
  },
  {
   "cell_type": "code",
   "execution_count": 7,
   "id": "ffd8c65a",
   "metadata": {},
   "outputs": [],
   "source": [
    "df = yData.copy()\n",
    "df = df.set_index(pd.DatetimeIndex(df['Date'].values))"
   ]
  },
  {
   "cell_type": "code",
   "execution_count": 8,
   "id": "b7c687e2",
   "metadata": {},
   "outputs": [],
   "source": [
    "col_list = df.columns.to_list()"
   ]
  },
  {
   "cell_type": "code",
   "execution_count": 9,
   "id": "0b83745e",
   "metadata": {},
   "outputs": [
    {
     "data": {
      "text/plain": [
       "['Date', 'Open', 'High', 'Low', 'Close', 'Adj Close', 'Volume']"
      ]
     },
     "execution_count": 9,
     "metadata": {},
     "output_type": "execute_result"
    }
   ],
   "source": [
    "col_list"
   ]
  },
  {
   "cell_type": "code",
   "execution_count": 10,
   "id": "e4b0ca9b",
   "metadata": {},
   "outputs": [
    {
     "data": {
      "text/plain": [
       "7"
      ]
     },
     "execution_count": 10,
     "metadata": {},
     "output_type": "execute_result"
    }
   ],
   "source": [
    "len(col_list)"
   ]
  },
  {
   "cell_type": "code",
   "execution_count": 11,
   "id": "bf5372af",
   "metadata": {},
   "outputs": [
    {
     "data": {
      "text/plain": [
       "['Open', 'High', 'Low', 'Close', 'Adj Close']"
      ]
     },
     "execution_count": 11,
     "metadata": {},
     "output_type": "execute_result"
    }
   ],
   "source": [
    "col_list[1:len(col_list)-1]"
   ]
  },
  {
   "cell_type": "code",
   "execution_count": 12,
   "id": "704311f1",
   "metadata": {},
   "outputs": [
    {
     "data": {
      "text/html": [
       "<div>\n",
       "<style scoped>\n",
       "    .dataframe tbody tr th:only-of-type {\n",
       "        vertical-align: middle;\n",
       "    }\n",
       "\n",
       "    .dataframe tbody tr th {\n",
       "        vertical-align: top;\n",
       "    }\n",
       "\n",
       "    .dataframe thead th {\n",
       "        text-align: right;\n",
       "    }\n",
       "</style>\n",
       "<table border=\"1\" class=\"dataframe\">\n",
       "  <thead>\n",
       "    <tr style=\"text-align: right;\">\n",
       "      <th></th>\n",
       "      <th>Date</th>\n",
       "      <th>Open</th>\n",
       "      <th>High</th>\n",
       "      <th>Low</th>\n",
       "      <th>Close</th>\n",
       "      <th>Adj Close</th>\n",
       "      <th>Volume</th>\n",
       "    </tr>\n",
       "  </thead>\n",
       "  <tbody>\n",
       "    <tr>\n",
       "      <th>2021-01-14</th>\n",
       "      <td>2021-01-14</td>\n",
       "      <td>17.400364</td>\n",
       "      <td>17.993221</td>\n",
       "      <td>16.940901</td>\n",
       "      <td>17.237328</td>\n",
       "      <td>17.237328</td>\n",
       "      <td>23535028</td>\n",
       "    </tr>\n",
       "    <tr>\n",
       "      <th>2021-01-15</th>\n",
       "      <td>2021-01-15</td>\n",
       "      <td>17.192863</td>\n",
       "      <td>17.637506</td>\n",
       "      <td>17.089113</td>\n",
       "      <td>17.622686</td>\n",
       "      <td>17.622686</td>\n",
       "      <td>9466830</td>\n",
       "    </tr>\n",
       "    <tr>\n",
       "      <th>2021-01-18</th>\n",
       "      <td>2021-01-18</td>\n",
       "      <td>17.652328</td>\n",
       "      <td>18.141436</td>\n",
       "      <td>17.652328</td>\n",
       "      <td>17.993221</td>\n",
       "      <td>17.993221</td>\n",
       "      <td>13715209</td>\n",
       "    </tr>\n",
       "    <tr>\n",
       "      <th>2021-01-19</th>\n",
       "      <td>2021-01-19</td>\n",
       "      <td>18.156258</td>\n",
       "      <td>19.015902</td>\n",
       "      <td>17.859829</td>\n",
       "      <td>18.645365</td>\n",
       "      <td>18.645365</td>\n",
       "      <td>24703051</td>\n",
       "    </tr>\n",
       "    <tr>\n",
       "      <th>2021-01-20</th>\n",
       "      <td>2021-01-20</td>\n",
       "      <td>18.704651</td>\n",
       "      <td>19.549473</td>\n",
       "      <td>18.511972</td>\n",
       "      <td>19.267864</td>\n",
       "      <td>19.267864</td>\n",
       "      <td>22130800</td>\n",
       "    </tr>\n",
       "    <tr>\n",
       "      <th>...</th>\n",
       "      <td>...</td>\n",
       "      <td>...</td>\n",
       "      <td>...</td>\n",
       "      <td>...</td>\n",
       "      <td>...</td>\n",
       "      <td>...</td>\n",
       "      <td>...</td>\n",
       "    </tr>\n",
       "    <tr>\n",
       "      <th>2022-01-10</th>\n",
       "      <td>2022-01-10</td>\n",
       "      <td>55.650002</td>\n",
       "      <td>58.099998</td>\n",
       "      <td>55.200001</td>\n",
       "      <td>56.500000</td>\n",
       "      <td>56.500000</td>\n",
       "      <td>29600100</td>\n",
       "    </tr>\n",
       "    <tr>\n",
       "      <th>2022-01-11</th>\n",
       "      <td>2022-01-11</td>\n",
       "      <td>57.400002</td>\n",
       "      <td>57.599998</td>\n",
       "      <td>55.200001</td>\n",
       "      <td>55.349998</td>\n",
       "      <td>55.349998</td>\n",
       "      <td>18439456</td>\n",
       "    </tr>\n",
       "    <tr>\n",
       "      <th>2022-01-12</th>\n",
       "      <td>2022-01-12</td>\n",
       "      <td>56.450001</td>\n",
       "      <td>56.450001</td>\n",
       "      <td>54.299999</td>\n",
       "      <td>54.700001</td>\n",
       "      <td>54.700001</td>\n",
       "      <td>12400597</td>\n",
       "    </tr>\n",
       "    <tr>\n",
       "      <th>2022-01-13</th>\n",
       "      <td>2022-01-13</td>\n",
       "      <td>54.299999</td>\n",
       "      <td>55.200001</td>\n",
       "      <td>53.000000</td>\n",
       "      <td>53.099998</td>\n",
       "      <td>53.099998</td>\n",
       "      <td>12435985</td>\n",
       "    </tr>\n",
       "    <tr>\n",
       "      <th>2022-01-14</th>\n",
       "      <td>2022-01-14</td>\n",
       "      <td>53.000000</td>\n",
       "      <td>54.650002</td>\n",
       "      <td>52.750000</td>\n",
       "      <td>53.650002</td>\n",
       "      <td>53.650002</td>\n",
       "      <td>16438281</td>\n",
       "    </tr>\n",
       "  </tbody>\n",
       "</table>\n",
       "<p>251 rows × 7 columns</p>\n",
       "</div>"
      ],
      "text/plain": [
       "                 Date       Open       High        Low      Close  Adj Close  \\\n",
       "2021-01-14 2021-01-14  17.400364  17.993221  16.940901  17.237328  17.237328   \n",
       "2021-01-15 2021-01-15  17.192863  17.637506  17.089113  17.622686  17.622686   \n",
       "2021-01-18 2021-01-18  17.652328  18.141436  17.652328  17.993221  17.993221   \n",
       "2021-01-19 2021-01-19  18.156258  19.015902  17.859829  18.645365  18.645365   \n",
       "2021-01-20 2021-01-20  18.704651  19.549473  18.511972  19.267864  19.267864   \n",
       "...               ...        ...        ...        ...        ...        ...   \n",
       "2022-01-10 2022-01-10  55.650002  58.099998  55.200001  56.500000  56.500000   \n",
       "2022-01-11 2022-01-11  57.400002  57.599998  55.200001  55.349998  55.349998   \n",
       "2022-01-12 2022-01-12  56.450001  56.450001  54.299999  54.700001  54.700001   \n",
       "2022-01-13 2022-01-13  54.299999  55.200001  53.000000  53.099998  53.099998   \n",
       "2022-01-14 2022-01-14  53.000000  54.650002  52.750000  53.650002  53.650002   \n",
       "\n",
       "              Volume  \n",
       "2021-01-14  23535028  \n",
       "2021-01-15   9466830  \n",
       "2021-01-18  13715209  \n",
       "2021-01-19  24703051  \n",
       "2021-01-20  22130800  \n",
       "...              ...  \n",
       "2022-01-10  29600100  \n",
       "2022-01-11  18439456  \n",
       "2022-01-12  12400597  \n",
       "2022-01-13  12435985  \n",
       "2022-01-14  16438281  \n",
       "\n",
       "[251 rows x 7 columns]"
      ]
     },
     "execution_count": 12,
     "metadata": {},
     "output_type": "execute_result"
    }
   ],
   "source": [
    "df"
   ]
  },
  {
   "cell_type": "code",
   "execution_count": 13,
   "id": "6d00abf1",
   "metadata": {},
   "outputs": [
    {
     "data": {
      "text/plain": [
       "numpy.float64"
      ]
     },
     "execution_count": 13,
     "metadata": {},
     "output_type": "execute_result"
    }
   ],
   "source": [
    "type(df.iloc[2,1])"
   ]
  },
  {
   "cell_type": "code",
   "execution_count": 14,
   "id": "38bb487a",
   "metadata": {},
   "outputs": [
    {
     "name": "stdout",
     "output_type": "stream",
     "text": [
      "ok\n",
      "17.993221282958984\n",
      "ok\n",
      "17.63750648498535\n",
      "ok\n",
      "18.141435623168945\n",
      "ok\n",
      "19.015901565551758\n",
      "ok\n",
      "19.54947280883789\n",
      "ok\n",
      "19.66804313659668\n",
      "ok\n",
      "19.001079559326172\n",
      "ok\n",
      "18.94179344177246\n",
      "ok\n",
      "19.801437377929688\n",
      "ok\n",
      "19.845901489257812\n"
     ]
    }
   ],
   "source": [
    "for i in range(0,10):\n",
    "    if (df.iloc[i,2] > 0):\n",
    "        print(\"ok\")\n",
    "        print(df.iloc[i,2])"
   ]
  },
  {
   "cell_type": "markdown",
   "id": "3dddb591",
   "metadata": {},
   "source": [
    "## RSI parametresinin çıkartılması"
   ]
  },
  {
   "cell_type": "code",
   "execution_count": 15,
   "id": "796d4539",
   "metadata": {},
   "outputs": [],
   "source": [
    "import pandas as pd\n",
    "import numpy as np"
   ]
  },
  {
   "cell_type": "code",
   "execution_count": 16,
   "id": "97adf434",
   "metadata": {},
   "outputs": [],
   "source": [
    "close = yData.Close\n",
    "ret = close.diff() #(n+1).gün - n.gün\n",
    "up = []\n",
    "down = [] \n",
    "\n",
    "for element in range(0, len(ret)):\n",
    "    if (ret[element] < float(0)):\n",
    "        up.append(0)\n",
    "        down.append(ret[element])\n",
    "    elif (ret[element] >= float(0)):\n",
    "        up.append(ret[element])\n",
    "        down.append(0)\n",
    "        \n",
    "upSeries = pd.Series(up)\n",
    "downSeries = pd.Series(down).abs()"
   ]
  },
  {
   "cell_type": "code",
   "execution_count": 17,
   "id": "98bedf85",
   "metadata": {},
   "outputs": [
    {
     "data": {
      "text/plain": [
       "0      0.000000\n",
       "1      0.385359\n",
       "2      0.370535\n",
       "3      0.652143\n",
       "4      0.622499\n",
       "         ...   \n",
       "246    1.299999\n",
       "247   -1.150002\n",
       "248   -0.649998\n",
       "249   -1.600002\n",
       "250    0.550003\n",
       "Name: Close, Length: 251, dtype: float64"
      ]
     },
     "execution_count": 17,
     "metadata": {},
     "output_type": "execute_result"
    }
   ],
   "source": [
    "ret = ret.replace(np.nan, 0)\n",
    "ret"
   ]
  },
  {
   "cell_type": "code",
   "execution_count": 18,
   "id": "ef1af184",
   "metadata": {},
   "outputs": [],
   "source": [
    "lookback = 7\n",
    "upEwm = upSeries.ewm(com = lookback -1, adjust = False).mean()\n",
    "downEwm = downSeries.ewm(com = lookback -1, adjust = False).mean()"
   ]
  },
  {
   "cell_type": "code",
   "execution_count": 19,
   "id": "8f9d6b9d",
   "metadata": {},
   "outputs": [],
   "source": [
    "rs = upEwm / downEwm\n",
    "rsi = 100 - (100 / (1 + rs))"
   ]
  },
  {
   "cell_type": "code",
   "execution_count": 20,
   "id": "a2f87ea1",
   "metadata": {},
   "outputs": [],
   "source": [
    "close = close.drop(index = close.index[0])\n",
    "temp_df = pd.DataFrame(rsi).rename(columns={0 : 'rsi'}).set_index(close.index)\n"
   ]
  },
  {
   "cell_type": "code",
   "execution_count": 21,
   "id": "e599539c",
   "metadata": {},
   "outputs": [
    {
     "name": "stdout",
     "output_type": "stream",
     "text": [
      "toplam gün sayısı: 251\n",
      "rsi veri gün sayısı: 250\n"
     ]
    }
   ],
   "source": [
    "print(\"toplam gün sayısı:\", len(yData))\n",
    "print(\"rsi veri gün sayısı:\", len(rsi))"
   ]
  },
  {
   "cell_type": "code",
   "execution_count": 22,
   "id": "15590ab0",
   "metadata": {},
   "outputs": [],
   "source": [
    "#bu işlemi yapmamızın sebebi hesaplamalarda ilk iki gün \n",
    "#RSI değerinin 100 çıkması\n",
    "#o yüzden ilk 2 günü pass geçiyoruz hatta 3 günü de geçebiliriz.\n",
    "yData[\"RSI_14\"] = temp_df[2:]"
   ]
  },
  {
   "cell_type": "markdown",
   "id": "c1ab6956",
   "metadata": {},
   "source": [
    "## Algoritmanın geliştirilmesi"
   ]
  },
  {
   "cell_type": "markdown",
   "id": "9e1098d7",
   "metadata": {},
   "source": [
    "### 1- RSI ile alım satım"
   ]
  },
  {
   "cell_type": "code",
   "execution_count": 23,
   "id": "711c5f20",
   "metadata": {},
   "outputs": [
    {
     "name": "stderr",
     "output_type": "stream",
     "text": [
      "/Users/batuhanduyuler/opt/anaconda3/envs/tf/lib/python3.7/site-packages/ipykernel_launcher.py:1: DeprecationWarning: `np.float` is a deprecated alias for the builtin `float`. To silence this warning, use `float` by itself. Doing this will not modify any behavior and is safe. If you specifically wanted the numpy scalar type, use `np.float64` here.\n",
      "Deprecated in NumPy 1.20; for more details and guidance: https://numpy.org/devdocs/release/1.20.0-notes.html#deprecations\n",
      "  \"\"\"Entry point for launching an IPython kernel.\n",
      "/Users/batuhanduyuler/opt/anaconda3/envs/tf/lib/python3.7/site-packages/ipykernel_launcher.py:2: DeprecationWarning: `np.float` is a deprecated alias for the builtin `float`. To silence this warning, use `float` by itself. Doing this will not modify any behavior and is safe. If you specifically wanted the numpy scalar type, use `np.float64` here.\n",
      "Deprecated in NumPy 1.20; for more details and guidance: https://numpy.org/devdocs/release/1.20.0-notes.html#deprecations\n",
      "  \n"
     ]
    }
   ],
   "source": [
    "lower_band = np.float(30)\n",
    "upper_band = np.float(70)\n",
    "signal = 0 #sinyal parametresi sattıysak -1 aldıysak 1 olacak.\n",
    "rsi_signal = []\n",
    "buy_price = [] #alım yaptıgımızda alım fiyatını ekledigimiz liste\n",
    "sell_price = []#satış yaptıgımızda satış fiyatını ekledigimiz liste\n",
    "rsi = yData.RSI_14\n",
    "prices = yData.Close\n",
    "def wait_for_signal(buyList, sellList, signalList):\n",
    "    buyList.append(np.nan)\n",
    "    sellList.append(np.nan)\n",
    "    signalList.append(0)\n",
    "    \n",
    "def fill_buy_signal(buyList,buyPrice, sellList, signalList):\n",
    "    buyList.append(buyPrice)\n",
    "    sellList.append(np.nan)\n",
    "    signalList.append(1)\n",
    "    \n",
    "def fill_sell_signal(buyList, sellList, sellPrice, signalList):\n",
    "    buyList.append(np.nan)\n",
    "    sellList.append(sellPrice)\n",
    "    signalList.append(-1)\n",
    "    \n",
    "for element in range(1, len(rsi)):\n",
    "    if ((rsi[element - 1] > lower_band) and (rsi[element] < lower_band)):\n",
    "        #eğer rsi değeri 30'un üstünden 30'un altına geçiş yaptıysa\n",
    "        #alım yapmak istiyoruz\n",
    "        #ancak iki kere alım yapamayacağımızdan sinyal kontrolü yap.\n",
    "        if (signal != 1):\n",
    "            fill_buy_signal(buy_price, prices[element], sell_price, rsi_signal)\n",
    "            signal = 1\n",
    "        else:\n",
    "            wait_for_signal(buy_price, sell_price, rsi_signal)\n",
    "            \n",
    "    elif((rsi[element - 1] < upper_band) and (rsi[element] > upper_band)):\n",
    "        #eğer rsi değeri 70'in altındaysa ve 70'in üstüne geçiş yaptıysa\n",
    "        #satış yapmak istiyoruz\n",
    "        #ancak iki kere satış yapamacağımızdan sinyal kontrolü yap\n",
    "        if (signal != -1):\n",
    "            fill_sell_signal(buy_price, sell_price, prices[element], rsi_signal)\n",
    "            signal = -1\n",
    "        else:\n",
    "            wait_for_signal(buy_price, sell_price, rsi_signal)\n",
    "            \n",
    "    else:\n",
    "        wait_for_signal(buy_price, sell_price, rsi_signal)\n",
    "            \n",
    "            \n",
    "        "
   ]
  },
  {
   "cell_type": "code",
   "execution_count": 24,
   "id": "ba7758a0",
   "metadata": {},
   "outputs": [
    {
     "name": "stdout",
     "output_type": "stream",
     "text": [
      "%  -3.233262412634536\n",
      "-2.786640167236328\n"
     ]
    }
   ],
   "source": [
    "investmenValue = yData['Close'][0] * 5\n",
    "firstInvestment = investmenValue\n",
    "decisionFlag = False\n",
    "stockNumber = round(investmenValue / yData['Close'][0])\n",
    "\n",
    "\n",
    "for i in range(0, len(rsi) - 1):\n",
    "    if (rsi_signal[i] != 0):\n",
    "        if (decisionFlag == False):\n",
    "            if(rsi_signal[i] == 1):\n",
    "                decisionFlag = True\n",
    "            elif(rsi_signal[i] == -1):\n",
    "                decisionFlag = True\n",
    "                investmenValue = yData[\"Close\"][i+1] * stockNumber    \n",
    "        else:\n",
    "            if (rsi_signal[i] == 1):\n",
    "                stockNumber = round(investmenValue / yData['Close'][i+1])\n",
    "                investmenValue = 0\n",
    "            elif (rsi_signal[i] == -1):\n",
    "                investmenValue = yData['Close'][i+1] * stockNumber\n",
    "\n",
    "                stockNumber = 0\n",
    "      \n",
    "\n",
    "\n",
    "if (investmenValue == 0.0):\n",
    "    investmenValue = yData['Close'][len(yData) - 1] * stockNumber\n",
    "    stockNumber = 0\n",
    "    \n",
    "print(\"% \",(investmenValue - firstInvestment) / firstInvestment * 100)\n",
    "print(investmenValue - firstInvestment)"
   ]
  },
  {
   "cell_type": "code",
   "execution_count": 25,
   "id": "00bfcbc7",
   "metadata": {},
   "outputs": [
    {
     "name": "stdout",
     "output_type": "stream",
     "text": [
      "işlem yapılmasa durum: % 211.24315118059283\n"
     ]
    }
   ],
   "source": [
    "print(\"işlem yapılmasa durum: %\",(yData.Close.iloc[-1] - yData.Close.iloc[0]) / yData.Close.iloc[0]*100)"
   ]
  },
  {
   "cell_type": "code",
   "execution_count": 26,
   "id": "0e64e61d",
   "metadata": {},
   "outputs": [
    {
     "name": "stdout",
     "output_type": "stream",
     "text": [
      "alım satım sayısı:  3\n",
      "veri uzunlugu:  251\n"
     ]
    }
   ],
   "source": [
    "alim_satim = 0\n",
    "for i in rsi_signal:\n",
    "    alim_satim += abs(i)\n",
    "    \n",
    "print(\"alım satım sayısı: \", alim_satim)\n",
    "print(\"veri uzunlugu: \", len(yData))"
   ]
  },
  {
   "cell_type": "markdown",
   "id": "73d73b75",
   "metadata": {},
   "source": [
    "### 2- Safe Sell RSI algoritması"
   ]
  },
  {
   "cell_type": "code",
   "execution_count": 27,
   "id": "60212a7d",
   "metadata": {},
   "outputs": [
    {
     "name": "stderr",
     "output_type": "stream",
     "text": [
      "/Users/batuhanduyuler/opt/anaconda3/envs/tf/lib/python3.7/site-packages/ipykernel_launcher.py:1: DeprecationWarning: `np.float` is a deprecated alias for the builtin `float`. To silence this warning, use `float` by itself. Doing this will not modify any behavior and is safe. If you specifically wanted the numpy scalar type, use `np.float64` here.\n",
      "Deprecated in NumPy 1.20; for more details and guidance: https://numpy.org/devdocs/release/1.20.0-notes.html#deprecations\n",
      "  \"\"\"Entry point for launching an IPython kernel.\n",
      "/Users/batuhanduyuler/opt/anaconda3/envs/tf/lib/python3.7/site-packages/ipykernel_launcher.py:2: DeprecationWarning: `np.float` is a deprecated alias for the builtin `float`. To silence this warning, use `float` by itself. Doing this will not modify any behavior and is safe. If you specifically wanted the numpy scalar type, use `np.float64` here.\n",
      "Deprecated in NumPy 1.20; for more details and guidance: https://numpy.org/devdocs/release/1.20.0-notes.html#deprecations\n",
      "  \n"
     ]
    }
   ],
   "source": [
    "lower_band = np.float(30)\n",
    "upper_band = np.float(70)\n",
    "signal = 0 #sinyal parametresi sattıysak -1 aldıysak 1 olacak.\n",
    "rsi_signal = []\n",
    "buy_price = [] #alım yaptıgımızda alım fiyatını ekledigimiz liste\n",
    "sell_price = []#satış yaptıgımızda satış fiyatını ekledigimiz liste\n",
    "rsi = yData.RSI_14\n",
    "beklenenKar = 0.1\n",
    "prices = yData.Close\n",
    "lastBuyPrice = []\n",
    "def wait_for_signal(buyList, sellList, signalList):\n",
    "    buyList.append(np.nan)\n",
    "    sellList.append(np.nan)\n",
    "    signalList.append(0)\n",
    "    \n",
    "def fill_buy_signal(buyList,buyPrice, sellList, signalList):\n",
    "    buyList.append(buyPrice)\n",
    "    sellList.append(np.nan)\n",
    "    signalList.append(1)\n",
    "    \n",
    "def fill_sell_signal(buyList, sellList, sellPrice, signalList):\n",
    "    buyList.append(np.nan)\n",
    "    sellList.append(sellPrice)\n",
    "    signalList.append(-1)\n",
    "    \n",
    "for element in range(1, len(rsi)):\n",
    "    if ((rsi[element - 1] > lower_band) and (rsi[element] < lower_band)):\n",
    "        #eğer rsi değeri 30'un üstünden 30'un altına geçiş yaptıysa\n",
    "        #alım yapmak istiyoruz\n",
    "        #ancak iki kere alım yapamayacağımızdan sinyal kontrolü yap.\n",
    "        if (signal != 1):\n",
    "            fill_buy_signal(buy_price, prices[element], sell_price, rsi_signal)\n",
    "            signal = 1\n",
    "            lastBuyPrice.append(prices[element])\n",
    "        else:\n",
    "            #RSI alım sinyali verdi ama zaten alım yapmışız\n",
    "            #fakat karımız %5 üzerindeyse satış yapmak istiyoruz.\n",
    "            #o yüzden ilk önce fiyat düşüşte mi ona bakıyoruz\n",
    "            if (prices[element - 1] > prices[element]):\n",
    "                #eğer düşüşteyse aldığımız fiyattan yüksek mi\n",
    "                #onu kontrol etmeliyiz.\n",
    "                if (prices[element] > lastBuyPrice[-1]):\n",
    "                    #eğer öyleyse karımızı hesaplamalıyız\n",
    "                    lossPortion = (prices[element] - lastBuyPrice[-1]) / lastBuyPrice[-1]\n",
    "                    if (lossPortion > beklenenKar ):\n",
    "                        print(lossPortion)\n",
    "                        fill_sell_signal(buy_price, sell_price, prices[element], rsi_signal)\n",
    "                        signal = -1\n",
    "                    else:\n",
    "                        wait_for_signal(buy_price, sell_price, rsi_signal)\n",
    "                else:\n",
    "                    wait_for_signal(buy_price, sell_price, rsi_signal)\n",
    "            else:\n",
    "                wait_for_signal(buy_price, sell_price, rsi_signal)\n",
    "            \n",
    "    elif((rsi[element - 1] < upper_band) and (rsi[element] > upper_band)):\n",
    "        #eğer rsi değeri 70'in altındaysa ve 70'in üstüne geçiş yaptıysa\n",
    "        #satış yapmak istiyoruz\n",
    "        #ancak iki kere satış yapamacağımızdan sinyal kontrolü yap\n",
    "        if (signal != -1):\n",
    "            fill_sell_signal(buy_price, sell_price, prices[element], rsi_signal)\n",
    "            signal = -1\n",
    "        else:\n",
    "            wait_for_signal(buy_price, sell_price, rsi_signal)\n",
    "         #satış pozisyonunda bir daha satış yapamayacağımızdan burayı pass geçiyoruz.   \n",
    "    else:\n",
    "        #eğer bu durumlardan biri yaşanmadıysa, karı kontrol edebiliriz.\n",
    "        #ilk olarak sinyal alım pozisyonunda mı ona bakıyoruz.\n",
    "        if (signal == 1):\n",
    "            if (prices[element - 1] > prices[element]):\n",
    "                #fiyat düşüştüyse tespit ettik.\n",
    "                if (prices[element] > lastBuyPrice[-1]):\n",
    "                    #karda olup olmadığımızı kontrol ettik\n",
    "                    lossPortion = (prices[element] - lastBuyPrice[-1]) / lastBuyPrice[-1]\n",
    "                    if (lossPortion > beklenenKar):\n",
    "                        print(lossPortion)\n",
    "                        fill_sell_signal(buy_price, sell_price, prices[element], rsi_signal)\n",
    "                        signal = -1\n",
    "                    else:\n",
    "                        wait_for_signal(buy_price, sell_price, rsi_signal) \n",
    "                else:\n",
    "                    wait_for_signal(buy_price, sell_price, rsi_signal)\n",
    "            else:\n",
    "                wait_for_signal(buy_price, sell_price, rsi_signal)\n",
    "        else:\n",
    "            wait_for_signal(buy_price, sell_price, rsi_signal)\n",
    "            \n",
    "        "
   ]
  },
  {
   "cell_type": "code",
   "execution_count": 28,
   "id": "f2c005e4",
   "metadata": {},
   "outputs": [
    {
     "name": "stdout",
     "output_type": "stream",
     "text": [
      "alım satım sayısı:  3\n",
      "veri uzunlugu:  251\n"
     ]
    }
   ],
   "source": [
    "alim_satim = 0\n",
    "for i in rsi_signal:\n",
    "    alim_satim += abs(i)\n",
    "    \n",
    "print(\"alım satım sayısı: \", alim_satim)\n",
    "print(\"veri uzunlugu: \", len(yData))"
   ]
  },
  {
   "cell_type": "code",
   "execution_count": 29,
   "id": "c9681285",
   "metadata": {},
   "outputs": [
    {
     "data": {
      "text/plain": [
       "250"
      ]
     },
     "execution_count": 29,
     "metadata": {},
     "output_type": "execute_result"
    }
   ],
   "source": [
    "len(rsi_signal)"
   ]
  },
  {
   "cell_type": "code",
   "execution_count": 30,
   "id": "cfc63e73",
   "metadata": {},
   "outputs": [],
   "source": [
    "new_data = yData.to_string(index = False)"
   ]
  },
  {
   "cell_type": "code",
   "execution_count": 31,
   "id": "97c2886c",
   "metadata": {},
   "outputs": [
    {
     "name": "stdout",
     "output_type": "stream",
     "text": [
      "%  -3.233262412634536\n",
      "-2.786640167236328\n"
     ]
    }
   ],
   "source": [
    "print(\"% \",(investmenValue - firstInvestment) / firstInvestment * 100)\n",
    "print(investmenValue - firstInvestment)"
   ]
  },
  {
   "cell_type": "code",
   "execution_count": 32,
   "id": "3029e1dc",
   "metadata": {},
   "outputs": [
    {
     "name": "stdout",
     "output_type": "stream",
     "text": [
      "işlem yapılmasa durum: % 211.24315118059283\n"
     ]
    }
   ],
   "source": [
    "print(\"işlem yapılmasa durum: %\",(yData.Close.iloc[-1] - yData.Close.iloc[0]) / yData.Close.iloc[0] * 100)"
   ]
  },
  {
   "cell_type": "code",
   "execution_count": 33,
   "id": "f252fde0",
   "metadata": {},
   "outputs": [
    {
     "data": {
      "text/html": [
       "<div>\n",
       "<style scoped>\n",
       "    .dataframe tbody tr th:only-of-type {\n",
       "        vertical-align: middle;\n",
       "    }\n",
       "\n",
       "    .dataframe tbody tr th {\n",
       "        vertical-align: top;\n",
       "    }\n",
       "\n",
       "    .dataframe thead th {\n",
       "        text-align: right;\n",
       "    }\n",
       "</style>\n",
       "<table border=\"1\" class=\"dataframe\">\n",
       "  <thead>\n",
       "    <tr style=\"text-align: right;\">\n",
       "      <th></th>\n",
       "      <th>Date</th>\n",
       "      <th>Open</th>\n",
       "      <th>High</th>\n",
       "      <th>Low</th>\n",
       "      <th>Close</th>\n",
       "      <th>Adj Close</th>\n",
       "      <th>Volume</th>\n",
       "      <th>RSI_14</th>\n",
       "    </tr>\n",
       "  </thead>\n",
       "  <tbody>\n",
       "    <tr>\n",
       "      <th>0</th>\n",
       "      <td>2021-01-14</td>\n",
       "      <td>17.400364</td>\n",
       "      <td>17.993221</td>\n",
       "      <td>16.940901</td>\n",
       "      <td>17.237328</td>\n",
       "      <td>17.237328</td>\n",
       "      <td>23535028</td>\n",
       "      <td>NaN</td>\n",
       "    </tr>\n",
       "    <tr>\n",
       "      <th>1</th>\n",
       "      <td>2021-01-15</td>\n",
       "      <td>17.192863</td>\n",
       "      <td>17.637506</td>\n",
       "      <td>17.089113</td>\n",
       "      <td>17.622686</td>\n",
       "      <td>17.622686</td>\n",
       "      <td>9466830</td>\n",
       "      <td>NaN</td>\n",
       "    </tr>\n",
       "    <tr>\n",
       "      <th>2</th>\n",
       "      <td>2021-01-18</td>\n",
       "      <td>17.652328</td>\n",
       "      <td>18.141436</td>\n",
       "      <td>17.652328</td>\n",
       "      <td>17.993221</td>\n",
       "      <td>17.993221</td>\n",
       "      <td>13715209</td>\n",
       "      <td>NaN</td>\n",
       "    </tr>\n",
       "    <tr>\n",
       "      <th>3</th>\n",
       "      <td>2021-01-19</td>\n",
       "      <td>18.156258</td>\n",
       "      <td>19.015902</td>\n",
       "      <td>17.859829</td>\n",
       "      <td>18.645365</td>\n",
       "      <td>18.645365</td>\n",
       "      <td>24703051</td>\n",
       "      <td>100.000000</td>\n",
       "    </tr>\n",
       "    <tr>\n",
       "      <th>4</th>\n",
       "      <td>2021-01-20</td>\n",
       "      <td>18.704651</td>\n",
       "      <td>19.549473</td>\n",
       "      <td>18.511972</td>\n",
       "      <td>19.267864</td>\n",
       "      <td>19.267864</td>\n",
       "      <td>22130800</td>\n",
       "      <td>100.000000</td>\n",
       "    </tr>\n",
       "    <tr>\n",
       "      <th>...</th>\n",
       "      <td>...</td>\n",
       "      <td>...</td>\n",
       "      <td>...</td>\n",
       "      <td>...</td>\n",
       "      <td>...</td>\n",
       "      <td>...</td>\n",
       "      <td>...</td>\n",
       "      <td>...</td>\n",
       "    </tr>\n",
       "    <tr>\n",
       "      <th>246</th>\n",
       "      <td>2022-01-10</td>\n",
       "      <td>55.650002</td>\n",
       "      <td>58.099998</td>\n",
       "      <td>55.200001</td>\n",
       "      <td>56.500000</td>\n",
       "      <td>56.500000</td>\n",
       "      <td>29600100</td>\n",
       "      <td>69.342211</td>\n",
       "    </tr>\n",
       "    <tr>\n",
       "      <th>247</th>\n",
       "      <td>2022-01-11</td>\n",
       "      <td>57.400002</td>\n",
       "      <td>57.599998</td>\n",
       "      <td>55.200001</td>\n",
       "      <td>55.349998</td>\n",
       "      <td>55.349998</td>\n",
       "      <td>18439456</td>\n",
       "      <td>60.651195</td>\n",
       "    </tr>\n",
       "    <tr>\n",
       "      <th>248</th>\n",
       "      <td>2022-01-12</td>\n",
       "      <td>56.450001</td>\n",
       "      <td>56.450001</td>\n",
       "      <td>54.299999</td>\n",
       "      <td>54.700001</td>\n",
       "      <td>54.700001</td>\n",
       "      <td>12400597</td>\n",
       "      <td>56.021152</td>\n",
       "    </tr>\n",
       "    <tr>\n",
       "      <th>249</th>\n",
       "      <td>2022-01-13</td>\n",
       "      <td>54.299999</td>\n",
       "      <td>55.200001</td>\n",
       "      <td>53.000000</td>\n",
       "      <td>53.099998</td>\n",
       "      <td>53.099998</td>\n",
       "      <td>12435985</td>\n",
       "      <td>45.947952</td>\n",
       "    </tr>\n",
       "    <tr>\n",
       "      <th>250</th>\n",
       "      <td>2022-01-14</td>\n",
       "      <td>53.000000</td>\n",
       "      <td>54.650002</td>\n",
       "      <td>52.750000</td>\n",
       "      <td>53.650002</td>\n",
       "      <td>53.650002</td>\n",
       "      <td>16438281</td>\n",
       "      <td>49.583574</td>\n",
       "    </tr>\n",
       "  </tbody>\n",
       "</table>\n",
       "<p>251 rows × 8 columns</p>\n",
       "</div>"
      ],
      "text/plain": [
       "          Date       Open       High        Low      Close  Adj Close  \\\n",
       "0   2021-01-14  17.400364  17.993221  16.940901  17.237328  17.237328   \n",
       "1   2021-01-15  17.192863  17.637506  17.089113  17.622686  17.622686   \n",
       "2   2021-01-18  17.652328  18.141436  17.652328  17.993221  17.993221   \n",
       "3   2021-01-19  18.156258  19.015902  17.859829  18.645365  18.645365   \n",
       "4   2021-01-20  18.704651  19.549473  18.511972  19.267864  19.267864   \n",
       "..         ...        ...        ...        ...        ...        ...   \n",
       "246 2022-01-10  55.650002  58.099998  55.200001  56.500000  56.500000   \n",
       "247 2022-01-11  57.400002  57.599998  55.200001  55.349998  55.349998   \n",
       "248 2022-01-12  56.450001  56.450001  54.299999  54.700001  54.700001   \n",
       "249 2022-01-13  54.299999  55.200001  53.000000  53.099998  53.099998   \n",
       "250 2022-01-14  53.000000  54.650002  52.750000  53.650002  53.650002   \n",
       "\n",
       "       Volume      RSI_14  \n",
       "0    23535028         NaN  \n",
       "1     9466830         NaN  \n",
       "2    13715209         NaN  \n",
       "3    24703051  100.000000  \n",
       "4    22130800  100.000000  \n",
       "..        ...         ...  \n",
       "246  29600100   69.342211  \n",
       "247  18439456   60.651195  \n",
       "248  12400597   56.021152  \n",
       "249  12435985   45.947952  \n",
       "250  16438281   49.583574  \n",
       "\n",
       "[251 rows x 8 columns]"
      ]
     },
     "execution_count": 33,
     "metadata": {},
     "output_type": "execute_result"
    }
   ],
   "source": [
    "yData"
   ]
  },
  {
   "cell_type": "code",
   "execution_count": 34,
   "id": "b6d0cf94",
   "metadata": {},
   "outputs": [],
   "source": [
    "temp_df = pd.DataFrame(list(zip(yData.Date[1:].to_list(), yData.Close[1:].to_list(), rsi_signal)), columns = [\"Date\", \"Close\", \"Signal\"])"
   ]
  },
  {
   "cell_type": "code",
   "execution_count": 35,
   "id": "c4aaf910",
   "metadata": {},
   "outputs": [
    {
     "data": {
      "text/plain": [
       "array([ 0, -1,  1])"
      ]
     },
     "execution_count": 35,
     "metadata": {},
     "output_type": "execute_result"
    }
   ],
   "source": [
    "temp_df.Signal.unique()"
   ]
  },
  {
   "cell_type": "code",
   "execution_count": null,
   "id": "8b1baf6f",
   "metadata": {},
   "outputs": [],
   "source": []
  }
 ],
 "metadata": {
  "kernelspec": {
   "display_name": "Python 3 (ipykernel)",
   "language": "python",
   "name": "python3"
  },
  "language_info": {
   "codemirror_mode": {
    "name": "ipython",
    "version": 3
   },
   "file_extension": ".py",
   "mimetype": "text/x-python",
   "name": "python",
   "nbconvert_exporter": "python",
   "pygments_lexer": "ipython3",
   "version": "3.7.10"
  }
 },
 "nbformat": 4,
 "nbformat_minor": 5
}
