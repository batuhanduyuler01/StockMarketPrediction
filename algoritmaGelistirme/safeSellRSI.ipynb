{
 "cells": [
  {
   "cell_type": "code",
   "execution_count": 46,
   "id": "6145b30c",
   "metadata": {},
   "outputs": [],
   "source": [
    "import sys\n",
    "sys.path.append(\"../../current_work/\")\n",
    "from pandas.core.indexing import maybe_convert_ix\n",
    "import PredictionManager as pm\n",
    "import backtest_class as backTest\n",
    "import yFinance_class as yfHelper"
   ]
  },
  {
   "cell_type": "markdown",
   "id": "fd41d4d3",
   "metadata": {},
   "source": [
    "## Data'nın indirilmesi"
   ]
  },
  {
   "cell_type": "code",
   "execution_count": 48,
   "id": "ad2d0f0f",
   "metadata": {},
   "outputs": [],
   "source": [
    "# use \"period\" instead of start/end\n",
    "        # valid periods: 1d,5d,1mo,3mo,6mo,1y,2y,5y,10y,ytd,max\n",
    "        # (optional, default is '1mo')\n",
    "        #period = \"ytd\",\n",
    "\n",
    "# fetch data by interval (including intraday if period < 60 days)\n",
    "        # valid intervals: 1m,2m,5m,15m,30m,60m,90m,1h,1d,5d,1wk,1mo,3mo\n",
    "        # (optional, default is '1d')\n",
    "        #interval = \"1m\","
   ]
  },
  {
   "cell_type": "code",
   "execution_count": 49,
   "id": "5e5b74ca",
   "metadata": {},
   "outputs": [],
   "source": [
    "userInput = \"SASA.IS\"\n",
    "period = '1y'\n",
    "interval = '1d'"
   ]
  },
  {
   "cell_type": "code",
   "execution_count": 50,
   "id": "05c20d5b",
   "metadata": {},
   "outputs": [
    {
     "name": "stdout",
     "output_type": "stream",
     "text": [
      "[*********************100%***********************]  1 of 1 completed\n"
     ]
    }
   ],
   "source": [
    "yData = yfHelper.yFinance(userInput.upper(), period, interval).getData()"
   ]
  },
  {
   "cell_type": "code",
   "execution_count": 51,
   "id": "7f8cd0ad",
   "metadata": {},
   "outputs": [
    {
     "data": {
      "text/plain": [
       "Date         2020-12-23 00:00:00\n",
       "Open                   14.302684\n",
       "High                    14.56947\n",
       "Low                    14.280452\n",
       "Close                  14.436077\n",
       "Adj Close              14.436077\n",
       "Volume                  10815611\n",
       "Name: 0, dtype: object"
      ]
     },
     "execution_count": 51,
     "metadata": {},
     "output_type": "execute_result"
    }
   ],
   "source": [
    "yData.iloc[0]"
   ]
  },
  {
   "cell_type": "code",
   "execution_count": 52,
   "id": "407d95aa",
   "metadata": {},
   "outputs": [
    {
     "data": {
      "text/plain": [
       "Date         2021-12-23 00:00:00\n",
       "Open                        45.0\n",
       "High                   45.560001\n",
       "Low                    40.740002\n",
       "Close                  43.279999\n",
       "Adj Close              43.279999\n",
       "Volume                  28815358\n",
       "Name: 249, dtype: object"
      ]
     },
     "execution_count": 52,
     "metadata": {},
     "output_type": "execute_result"
    }
   ],
   "source": [
    "yData.iloc[-1]"
   ]
  },
  {
   "cell_type": "code",
   "execution_count": 55,
   "id": "ffd8c65a",
   "metadata": {},
   "outputs": [],
   "source": [
    "df = yData.copy()\n",
    "df = df.set_index(pd.DatetimeIndex(df['Date'].values))"
   ]
  },
  {
   "cell_type": "code",
   "execution_count": 56,
   "id": "b7c687e2",
   "metadata": {},
   "outputs": [],
   "source": [
    "col_list = df.columns.to_list()"
   ]
  },
  {
   "cell_type": "code",
   "execution_count": 57,
   "id": "0b83745e",
   "metadata": {},
   "outputs": [
    {
     "data": {
      "text/plain": [
       "['Date', 'Open', 'High', 'Low', 'Close', 'Adj Close', 'Volume']"
      ]
     },
     "execution_count": 57,
     "metadata": {},
     "output_type": "execute_result"
    }
   ],
   "source": [
    "col_list"
   ]
  },
  {
   "cell_type": "code",
   "execution_count": 60,
   "id": "e4b0ca9b",
   "metadata": {},
   "outputs": [
    {
     "data": {
      "text/plain": [
       "7"
      ]
     },
     "execution_count": 60,
     "metadata": {},
     "output_type": "execute_result"
    }
   ],
   "source": [
    "len(col_list)"
   ]
  },
  {
   "cell_type": "code",
   "execution_count": 61,
   "id": "bf5372af",
   "metadata": {},
   "outputs": [
    {
     "data": {
      "text/plain": [
       "['Open', 'High', 'Low', 'Close', 'Adj Close']"
      ]
     },
     "execution_count": 61,
     "metadata": {},
     "output_type": "execute_result"
    }
   ],
   "source": [
    "col_list[1:len(col_list)-1]"
   ]
  },
  {
   "cell_type": "code",
   "execution_count": 64,
   "id": "704311f1",
   "metadata": {},
   "outputs": [
    {
     "data": {
      "text/html": [
       "<div>\n",
       "<style scoped>\n",
       "    .dataframe tbody tr th:only-of-type {\n",
       "        vertical-align: middle;\n",
       "    }\n",
       "\n",
       "    .dataframe tbody tr th {\n",
       "        vertical-align: top;\n",
       "    }\n",
       "\n",
       "    .dataframe thead th {\n",
       "        text-align: right;\n",
       "    }\n",
       "</style>\n",
       "<table border=\"1\" class=\"dataframe\">\n",
       "  <thead>\n",
       "    <tr style=\"text-align: right;\">\n",
       "      <th></th>\n",
       "      <th>Date</th>\n",
       "      <th>Open</th>\n",
       "      <th>High</th>\n",
       "      <th>Low</th>\n",
       "      <th>Close</th>\n",
       "      <th>Adj Close</th>\n",
       "      <th>Volume</th>\n",
       "    </tr>\n",
       "  </thead>\n",
       "  <tbody>\n",
       "    <tr>\n",
       "      <th>2020-12-23</th>\n",
       "      <td>2020-12-23</td>\n",
       "      <td>14.302684</td>\n",
       "      <td>14.569470</td>\n",
       "      <td>14.280452</td>\n",
       "      <td>14.436077</td>\n",
       "      <td>14.436077</td>\n",
       "      <td>10815611</td>\n",
       "    </tr>\n",
       "    <tr>\n",
       "      <th>2020-12-24</th>\n",
       "      <td>2020-12-24</td>\n",
       "      <td>14.465720</td>\n",
       "      <td>14.650988</td>\n",
       "      <td>14.361970</td>\n",
       "      <td>14.443488</td>\n",
       "      <td>14.443488</td>\n",
       "      <td>7477201</td>\n",
       "    </tr>\n",
       "    <tr>\n",
       "      <th>2020-12-25</th>\n",
       "      <td>2020-12-25</td>\n",
       "      <td>14.525006</td>\n",
       "      <td>14.710274</td>\n",
       "      <td>14.436077</td>\n",
       "      <td>14.458309</td>\n",
       "      <td>14.458309</td>\n",
       "      <td>8087790</td>\n",
       "    </tr>\n",
       "    <tr>\n",
       "      <th>2020-12-28</th>\n",
       "      <td>2020-12-28</td>\n",
       "      <td>14.525006</td>\n",
       "      <td>14.673220</td>\n",
       "      <td>14.421256</td>\n",
       "      <td>14.443488</td>\n",
       "      <td>14.443488</td>\n",
       "      <td>5901864</td>\n",
       "    </tr>\n",
       "    <tr>\n",
       "      <th>2020-12-29</th>\n",
       "      <td>2020-12-29</td>\n",
       "      <td>14.458309</td>\n",
       "      <td>15.858935</td>\n",
       "      <td>14.384202</td>\n",
       "      <td>14.865899</td>\n",
       "      <td>14.865899</td>\n",
       "      <td>57816868</td>\n",
       "    </tr>\n",
       "    <tr>\n",
       "      <th>...</th>\n",
       "      <td>...</td>\n",
       "      <td>...</td>\n",
       "      <td>...</td>\n",
       "      <td>...</td>\n",
       "      <td>...</td>\n",
       "      <td>...</td>\n",
       "      <td>...</td>\n",
       "    </tr>\n",
       "    <tr>\n",
       "      <th>2021-12-17</th>\n",
       "      <td>2021-12-17</td>\n",
       "      <td>58.400002</td>\n",
       "      <td>61.000000</td>\n",
       "      <td>51.250000</td>\n",
       "      <td>52.000000</td>\n",
       "      <td>52.000000</td>\n",
       "      <td>47415546</td>\n",
       "    </tr>\n",
       "    <tr>\n",
       "      <th>2021-12-20</th>\n",
       "      <td>2021-12-20</td>\n",
       "      <td>49.980000</td>\n",
       "      <td>54.650002</td>\n",
       "      <td>47.200001</td>\n",
       "      <td>51.549999</td>\n",
       "      <td>51.549999</td>\n",
       "      <td>35937805</td>\n",
       "    </tr>\n",
       "    <tr>\n",
       "      <th>2021-12-21</th>\n",
       "      <td>2021-12-21</td>\n",
       "      <td>52.099998</td>\n",
       "      <td>54.000000</td>\n",
       "      <td>46.400002</td>\n",
       "      <td>46.599998</td>\n",
       "      <td>46.599998</td>\n",
       "      <td>28637408</td>\n",
       "    </tr>\n",
       "    <tr>\n",
       "      <th>2021-12-22</th>\n",
       "      <td>2021-12-22</td>\n",
       "      <td>45.400002</td>\n",
       "      <td>47.860001</td>\n",
       "      <td>43.599998</td>\n",
       "      <td>43.980000</td>\n",
       "      <td>43.980000</td>\n",
       "      <td>37211464</td>\n",
       "    </tr>\n",
       "    <tr>\n",
       "      <th>2021-12-23</th>\n",
       "      <td>2021-12-23</td>\n",
       "      <td>45.000000</td>\n",
       "      <td>45.560001</td>\n",
       "      <td>40.740002</td>\n",
       "      <td>43.279999</td>\n",
       "      <td>43.279999</td>\n",
       "      <td>28815358</td>\n",
       "    </tr>\n",
       "  </tbody>\n",
       "</table>\n",
       "<p>250 rows × 7 columns</p>\n",
       "</div>"
      ],
      "text/plain": [
       "                 Date       Open       High        Low      Close  Adj Close  \\\n",
       "2020-12-23 2020-12-23  14.302684  14.569470  14.280452  14.436077  14.436077   \n",
       "2020-12-24 2020-12-24  14.465720  14.650988  14.361970  14.443488  14.443488   \n",
       "2020-12-25 2020-12-25  14.525006  14.710274  14.436077  14.458309  14.458309   \n",
       "2020-12-28 2020-12-28  14.525006  14.673220  14.421256  14.443488  14.443488   \n",
       "2020-12-29 2020-12-29  14.458309  15.858935  14.384202  14.865899  14.865899   \n",
       "...               ...        ...        ...        ...        ...        ...   \n",
       "2021-12-17 2021-12-17  58.400002  61.000000  51.250000  52.000000  52.000000   \n",
       "2021-12-20 2021-12-20  49.980000  54.650002  47.200001  51.549999  51.549999   \n",
       "2021-12-21 2021-12-21  52.099998  54.000000  46.400002  46.599998  46.599998   \n",
       "2021-12-22 2021-12-22  45.400002  47.860001  43.599998  43.980000  43.980000   \n",
       "2021-12-23 2021-12-23  45.000000  45.560001  40.740002  43.279999  43.279999   \n",
       "\n",
       "              Volume  \n",
       "2020-12-23  10815611  \n",
       "2020-12-24   7477201  \n",
       "2020-12-25   8087790  \n",
       "2020-12-28   5901864  \n",
       "2020-12-29  57816868  \n",
       "...              ...  \n",
       "2021-12-17  47415546  \n",
       "2021-12-20  35937805  \n",
       "2021-12-21  28637408  \n",
       "2021-12-22  37211464  \n",
       "2021-12-23  28815358  \n",
       "\n",
       "[250 rows x 7 columns]"
      ]
     },
     "execution_count": 64,
     "metadata": {},
     "output_type": "execute_result"
    }
   ],
   "source": [
    "df"
   ]
  },
  {
   "cell_type": "code",
   "execution_count": 67,
   "id": "6d00abf1",
   "metadata": {},
   "outputs": [
    {
     "data": {
      "text/plain": [
       "numpy.float64"
      ]
     },
     "execution_count": 67,
     "metadata": {},
     "output_type": "execute_result"
    }
   ],
   "source": [
    "type(df.iloc[2,1])"
   ]
  },
  {
   "cell_type": "code",
   "execution_count": 69,
   "id": "38bb487a",
   "metadata": {},
   "outputs": [
    {
     "name": "stdout",
     "output_type": "stream",
     "text": [
      "ok\n",
      "14.569470405578613\n",
      "ok\n",
      "14.65098762512207\n",
      "ok\n",
      "14.710273742675781\n",
      "ok\n",
      "14.673219680786133\n",
      "ok\n",
      "15.858935356140137\n",
      "ok\n",
      "15.280899047851562\n",
      "ok\n",
      "15.117862701416016\n",
      "ok\n",
      "15.458756446838379\n",
      "ok\n",
      "15.458756446838379\n",
      "ok\n",
      "15.725542068481445\n"
     ]
    }
   ],
   "source": [
    "for i in range(0,10):\n",
    "    if (df.iloc[i,2] > 0):\n",
    "        print(\"ok\")\n",
    "        print(df.iloc[i,2])"
   ]
  },
  {
   "cell_type": "markdown",
   "id": "3dddb591",
   "metadata": {},
   "source": [
    "## RSI parametresinin çıkartılması"
   ]
  },
  {
   "cell_type": "code",
   "execution_count": 7,
   "id": "796d4539",
   "metadata": {},
   "outputs": [],
   "source": [
    "import pandas as pd\n",
    "import numpy as np"
   ]
  },
  {
   "cell_type": "code",
   "execution_count": 30,
   "id": "97adf434",
   "metadata": {},
   "outputs": [],
   "source": [
    "close = yData.Close\n",
    "ret = close.diff() #(n+1).gün - n.gün\n",
    "up = []\n",
    "down = [] \n",
    "\n",
    "for element in range(0, len(ret)):\n",
    "    if (ret[element] < float(0)):\n",
    "        up.append(0)\n",
    "        down.append(ret[element])\n",
    "    elif (ret[element] >= float(0)):\n",
    "        up.append(ret[element])\n",
    "        down.append(0)\n",
    "        \n",
    "upSeries = pd.Series(up)\n",
    "downSeries = pd.Series(down).abs()"
   ]
  },
  {
   "cell_type": "code",
   "execution_count": 32,
   "id": "98bedf85",
   "metadata": {},
   "outputs": [
    {
     "data": {
      "text/plain": [
       "0      0.000000\n",
       "1      0.163035\n",
       "2     -0.281608\n",
       "3      0.244554\n",
       "4      0.207500\n",
       "         ...   \n",
       "245    1.560001\n",
       "246    4.269997\n",
       "247   -1.000000\n",
       "248    5.050003\n",
       "249   -4.900002\n",
       "Name: Close, Length: 250, dtype: float64"
      ]
     },
     "execution_count": 32,
     "metadata": {},
     "output_type": "execute_result"
    }
   ],
   "source": [
    "ret = ret.replace(np.nan, 0)\n",
    "ret"
   ]
  },
  {
   "cell_type": "code",
   "execution_count": 10,
   "id": "ef1af184",
   "metadata": {},
   "outputs": [],
   "source": [
    "lookback = 7\n",
    "upEwm = upSeries.ewm(com = lookback -1, adjust = False).mean()\n",
    "downEwm = downSeries.ewm(com = lookback -1, adjust = False).mean()"
   ]
  },
  {
   "cell_type": "code",
   "execution_count": 11,
   "id": "8f9d6b9d",
   "metadata": {},
   "outputs": [],
   "source": [
    "rs = upEwm / downEwm\n",
    "rsi = 100 - (100 / (1 + rs))"
   ]
  },
  {
   "cell_type": "code",
   "execution_count": 12,
   "id": "a2f87ea1",
   "metadata": {},
   "outputs": [],
   "source": [
    "close = close.drop(index = close.index[0])\n",
    "temp_df = pd.DataFrame(rsi).rename(columns={0 : 'rsi'}).set_index(close.index)\n"
   ]
  },
  {
   "cell_type": "code",
   "execution_count": 13,
   "id": "e599539c",
   "metadata": {},
   "outputs": [
    {
     "name": "stdout",
     "output_type": "stream",
     "text": [
      "toplam gün sayısı: 250\n",
      "rsi veri gün sayısı: 249\n"
     ]
    }
   ],
   "source": [
    "print(\"toplam gün sayısı:\", len(yData))\n",
    "print(\"rsi veri gün sayısı:\", len(rsi))"
   ]
  },
  {
   "cell_type": "code",
   "execution_count": 14,
   "id": "15590ab0",
   "metadata": {},
   "outputs": [],
   "source": [
    "#bu işlemi yapmamızın sebebi hesaplamalarda ilk iki gün \n",
    "#RSI değerinin 100 çıkması\n",
    "#o yüzden ilk 2 günü pass geçiyoruz hatta 3 günü de geçebiliriz.\n",
    "yData[\"RSI_14\"] = temp_df[2:]"
   ]
  },
  {
   "cell_type": "markdown",
   "id": "c1ab6956",
   "metadata": {},
   "source": [
    "## Algoritmanın geliştirilmesi"
   ]
  },
  {
   "cell_type": "markdown",
   "id": "9e1098d7",
   "metadata": {},
   "source": [
    "### 1- RSI ile alım satım"
   ]
  },
  {
   "cell_type": "code",
   "execution_count": 15,
   "id": "711c5f20",
   "metadata": {},
   "outputs": [
    {
     "name": "stderr",
     "output_type": "stream",
     "text": [
      "/Users/batuhanduyuler/opt/anaconda3/envs/tf/lib/python3.7/site-packages/ipykernel_launcher.py:1: DeprecationWarning: `np.float` is a deprecated alias for the builtin `float`. To silence this warning, use `float` by itself. Doing this will not modify any behavior and is safe. If you specifically wanted the numpy scalar type, use `np.float64` here.\n",
      "Deprecated in NumPy 1.20; for more details and guidance: https://numpy.org/devdocs/release/1.20.0-notes.html#deprecations\n",
      "  \"\"\"Entry point for launching an IPython kernel.\n",
      "/Users/batuhanduyuler/opt/anaconda3/envs/tf/lib/python3.7/site-packages/ipykernel_launcher.py:2: DeprecationWarning: `np.float` is a deprecated alias for the builtin `float`. To silence this warning, use `float` by itself. Doing this will not modify any behavior and is safe. If you specifically wanted the numpy scalar type, use `np.float64` here.\n",
      "Deprecated in NumPy 1.20; for more details and guidance: https://numpy.org/devdocs/release/1.20.0-notes.html#deprecations\n",
      "  \n"
     ]
    }
   ],
   "source": [
    "lower_band = np.float(30)\n",
    "upper_band = np.float(70)\n",
    "signal = 0 #sinyal parametresi sattıysak -1 aldıysak 1 olacak.\n",
    "rsi_signal = []\n",
    "buy_price = [] #alım yaptıgımızda alım fiyatını ekledigimiz liste\n",
    "sell_price = []#satış yaptıgımızda satış fiyatını ekledigimiz liste\n",
    "rsi = yData.RSI_14\n",
    "prices = yData.Close\n",
    "def wait_for_signal(buyList, sellList, signalList):\n",
    "    buyList.append(np.nan)\n",
    "    sellList.append(np.nan)\n",
    "    signalList.append(0)\n",
    "    \n",
    "def fill_buy_signal(buyList,buyPrice, sellList, signalList):\n",
    "    buyList.append(buyPrice)\n",
    "    sellList.append(np.nan)\n",
    "    signalList.append(1)\n",
    "    \n",
    "def fill_sell_signal(buyList, sellList, sellPrice, signalList):\n",
    "    buyList.append(np.nan)\n",
    "    sellList.append(sellPrice)\n",
    "    signalList.append(-1)\n",
    "    \n",
    "for element in range(1, len(rsi)):\n",
    "    if ((rsi[element - 1] > lower_band) and (rsi[element] < lower_band)):\n",
    "        #eğer rsi değeri 30'un üstünden 30'un altına geçiş yaptıysa\n",
    "        #alım yapmak istiyoruz\n",
    "        #ancak iki kere alım yapamayacağımızdan sinyal kontrolü yap.\n",
    "        if (signal != 1):\n",
    "            fill_buy_signal(buy_price, prices[element], sell_price, rsi_signal)\n",
    "            signal = 1\n",
    "        else:\n",
    "            wait_for_signal(buy_price, sell_price, rsi_signal)\n",
    "            \n",
    "    elif((rsi[element - 1] < upper_band) and (rsi[element] > upper_band)):\n",
    "        #eğer rsi değeri 70'in altındaysa ve 70'in üstüne geçiş yaptıysa\n",
    "        #satış yapmak istiyoruz\n",
    "        #ancak iki kere satış yapamacağımızdan sinyal kontrolü yap\n",
    "        if (signal != -1):\n",
    "            fill_sell_signal(buy_price, sell_price, prices[element], rsi_signal)\n",
    "            signal = -1\n",
    "        else:\n",
    "            wait_for_signal(buy_price, sell_price, rsi_signal)\n",
    "            \n",
    "    else:\n",
    "        wait_for_signal(buy_price, sell_price, rsi_signal)\n",
    "            \n",
    "            \n",
    "        "
   ]
  },
  {
   "cell_type": "code",
   "execution_count": 16,
   "id": "ba7758a0",
   "metadata": {},
   "outputs": [
    {
     "name": "stdout",
     "output_type": "stream",
     "text": [
      "%  18.276098496562298\n",
      "12.8870210647583\n"
     ]
    }
   ],
   "source": [
    "investmenValue = yData['Close'][0] * 5\n",
    "firstInvestment = investmenValue\n",
    "decisionFlag = False\n",
    "stockNumber = round(investmenValue / yData['Close'][0])\n",
    "\n",
    "\n",
    "for i in range(0, len(rsi) - 1):\n",
    "    if (rsi_signal[i] != 0):\n",
    "        if (decisionFlag == False):\n",
    "            if(rsi_signal[i] == 1):\n",
    "                decisionFlag = True\n",
    "            elif(rsi_signal[i] == -1):\n",
    "                decisionFlag = True\n",
    "                investmenValue = yData[\"Close\"][i+1] * stockNumber    \n",
    "        else:\n",
    "            if (rsi_signal[i] == 1):\n",
    "                stockNumber = round(investmenValue / yData['Close'][i+1])\n",
    "                investmenValue = 0\n",
    "            elif (rsi_signal[i] == -1):\n",
    "                investmenValue = yData['Close'][i+1] * stockNumber\n",
    "\n",
    "                stockNumber = 0\n",
    "      \n",
    "\n",
    "\n",
    "if (investmenValue == 0.0):\n",
    "    investmenValue = yData['Close'][len(yData) - 1] * stockNumber\n",
    "    stockNumber = 0\n",
    "    \n",
    "print(\"% \",(investmenValue - firstInvestment) / firstInvestment * 100)\n",
    "print(investmenValue - firstInvestment)"
   ]
  },
  {
   "cell_type": "code",
   "execution_count": 17,
   "id": "00bfcbc7",
   "metadata": {},
   "outputs": [
    {
     "name": "stdout",
     "output_type": "stream",
     "text": [
      "işlem yapılmasa durum: % 268.72645627163166\n"
     ]
    }
   ],
   "source": [
    "print(\"işlem yapılmasa durum: %\",(yData.Close.iloc[-1] - yData.Close.iloc[0]) / yData.Close.iloc[0]*100)"
   ]
  },
  {
   "cell_type": "code",
   "execution_count": 18,
   "id": "0e64e61d",
   "metadata": {},
   "outputs": [
    {
     "name": "stdout",
     "output_type": "stream",
     "text": [
      "alım satım sayısı:  3\n",
      "veri uzunlugu:  250\n"
     ]
    }
   ],
   "source": [
    "alim_satim = 0\n",
    "for i in rsi_signal:\n",
    "    alim_satim += abs(i)\n",
    "    \n",
    "print(\"alım satım sayısı: \", alim_satim)\n",
    "print(\"veri uzunlugu: \", len(yData))"
   ]
  },
  {
   "cell_type": "markdown",
   "id": "73d73b75",
   "metadata": {},
   "source": [
    "### 2- Safe Sell RSI algoritması"
   ]
  },
  {
   "cell_type": "code",
   "execution_count": 19,
   "id": "60212a7d",
   "metadata": {},
   "outputs": [
    {
     "name": "stderr",
     "output_type": "stream",
     "text": [
      "/Users/batuhanduyuler/opt/anaconda3/envs/tf/lib/python3.7/site-packages/ipykernel_launcher.py:1: DeprecationWarning: `np.float` is a deprecated alias for the builtin `float`. To silence this warning, use `float` by itself. Doing this will not modify any behavior and is safe. If you specifically wanted the numpy scalar type, use `np.float64` here.\n",
      "Deprecated in NumPy 1.20; for more details and guidance: https://numpy.org/devdocs/release/1.20.0-notes.html#deprecations\n",
      "  \"\"\"Entry point for launching an IPython kernel.\n",
      "/Users/batuhanduyuler/opt/anaconda3/envs/tf/lib/python3.7/site-packages/ipykernel_launcher.py:2: DeprecationWarning: `np.float` is a deprecated alias for the builtin `float`. To silence this warning, use `float` by itself. Doing this will not modify any behavior and is safe. If you specifically wanted the numpy scalar type, use `np.float64` here.\n",
      "Deprecated in NumPy 1.20; for more details and guidance: https://numpy.org/devdocs/release/1.20.0-notes.html#deprecations\n",
      "  \n"
     ]
    }
   ],
   "source": [
    "lower_band = np.float(30)\n",
    "upper_band = np.float(70)\n",
    "signal = 0 #sinyal parametresi sattıysak -1 aldıysak 1 olacak.\n",
    "rsi_signal = []\n",
    "buy_price = [] #alım yaptıgımızda alım fiyatını ekledigimiz liste\n",
    "sell_price = []#satış yaptıgımızda satış fiyatını ekledigimiz liste\n",
    "rsi = yData.RSI_14\n",
    "beklenenKar = 0.1\n",
    "prices = yData.Close\n",
    "lastBuyPrice = []\n",
    "def wait_for_signal(buyList, sellList, signalList):\n",
    "    buyList.append(np.nan)\n",
    "    sellList.append(np.nan)\n",
    "    signalList.append(0)\n",
    "    \n",
    "def fill_buy_signal(buyList,buyPrice, sellList, signalList):\n",
    "    buyList.append(buyPrice)\n",
    "    sellList.append(np.nan)\n",
    "    signalList.append(1)\n",
    "    \n",
    "def fill_sell_signal(buyList, sellList, sellPrice, signalList):\n",
    "    buyList.append(np.nan)\n",
    "    sellList.append(sellPrice)\n",
    "    signalList.append(-1)\n",
    "    \n",
    "for element in range(1, len(rsi)):\n",
    "    if ((rsi[element - 1] > lower_band) and (rsi[element] < lower_band)):\n",
    "        #eğer rsi değeri 30'un üstünden 30'un altına geçiş yaptıysa\n",
    "        #alım yapmak istiyoruz\n",
    "        #ancak iki kere alım yapamayacağımızdan sinyal kontrolü yap.\n",
    "        if (signal != 1):\n",
    "            fill_buy_signal(buy_price, prices[element], sell_price, rsi_signal)\n",
    "            signal = 1\n",
    "            lastBuyPrice.append(prices[element])\n",
    "        else:\n",
    "            #RSI alım sinyali verdi ama zaten alım yapmışız\n",
    "            #fakat karımız %5 üzerindeyse satış yapmak istiyoruz.\n",
    "            #o yüzden ilk önce fiyat düşüşte mi ona bakıyoruz\n",
    "            if (prices[element - 1] > prices[element]):\n",
    "                #eğer düşüşteyse aldığımız fiyattan yüksek mi\n",
    "                #onu kontrol etmeliyiz.\n",
    "                if (prices[element] > lastBuyPrice[-1]):\n",
    "                    #eğer öyleyse karımızı hesaplamalıyız\n",
    "                    lossPortion = (prices[element] - lastBuyPrice[-1]) / lastBuyPrice[-1]\n",
    "                    if (lossPortion > beklenenKar ):\n",
    "                        print(lossPortion)\n",
    "                        fill_sell_signal(buy_price, sell_price, prices[element], rsi_signal)\n",
    "                        signal = -1\n",
    "                    else:\n",
    "                        wait_for_signal(buy_price, sell_price, rsi_signal)\n",
    "                else:\n",
    "                    wait_for_signal(buy_price, sell_price, rsi_signal)\n",
    "            else:\n",
    "                wait_for_signal(buy_price, sell_price, rsi_signal)\n",
    "            \n",
    "    elif((rsi[element - 1] < upper_band) and (rsi[element] > upper_band)):\n",
    "        #eğer rsi değeri 70'in altındaysa ve 70'in üstüne geçiş yaptıysa\n",
    "        #satış yapmak istiyoruz\n",
    "        #ancak iki kere satış yapamacağımızdan sinyal kontrolü yap\n",
    "        if (signal != -1):\n",
    "            fill_sell_signal(buy_price, sell_price, prices[element], rsi_signal)\n",
    "            signal = -1\n",
    "        else:\n",
    "            wait_for_signal(buy_price, sell_price, rsi_signal)\n",
    "         #satış pozisyonunda bir daha satış yapamayacağımızdan burayı pass geçiyoruz.   \n",
    "    else:\n",
    "        #eğer bu durumlardan biri yaşanmadıysa, karı kontrol edebiliriz.\n",
    "        #ilk olarak sinyal alım pozisyonunda mı ona bakıyoruz.\n",
    "        if (signal == 1):\n",
    "            if (prices[element - 1] > prices[element]):\n",
    "                #fiyat düşüştüyse tespit ettik.\n",
    "                if (prices[element] > lastBuyPrice[-1]):\n",
    "                    #karda olup olmadığımızı kontrol ettik\n",
    "                    lossPortion = (prices[element] - lastBuyPrice[-1]) / lastBuyPrice[-1]\n",
    "                    if (lossPortion > beklenenKar):\n",
    "                        print(lossPortion)\n",
    "                        fill_sell_signal(buy_price, sell_price, prices[element], rsi_signal)\n",
    "                        signal = -1\n",
    "                    else:\n",
    "                        wait_for_signal(buy_price, sell_price, rsi_signal) \n",
    "                else:\n",
    "                    wait_for_signal(buy_price, sell_price, rsi_signal)\n",
    "            else:\n",
    "                wait_for_signal(buy_price, sell_price, rsi_signal)\n",
    "        else:\n",
    "            wait_for_signal(buy_price, sell_price, rsi_signal)\n",
    "            \n",
    "        "
   ]
  },
  {
   "cell_type": "code",
   "execution_count": 20,
   "id": "f2c005e4",
   "metadata": {},
   "outputs": [
    {
     "name": "stdout",
     "output_type": "stream",
     "text": [
      "alım satım sayısı:  3\n",
      "veri uzunlugu:  250\n"
     ]
    }
   ],
   "source": [
    "alim_satim = 0\n",
    "for i in rsi_signal:\n",
    "    alim_satim += abs(i)\n",
    "    \n",
    "print(\"alım satım sayısı: \", alim_satim)\n",
    "print(\"veri uzunlugu: \", len(yData))"
   ]
  },
  {
   "cell_type": "code",
   "execution_count": 72,
   "id": "c9681285",
   "metadata": {},
   "outputs": [
    {
     "data": {
      "text/plain": [
       "249"
      ]
     },
     "execution_count": 72,
     "metadata": {},
     "output_type": "execute_result"
    }
   ],
   "source": [
    "len(rsi_signal)"
   ]
  },
  {
   "cell_type": "code",
   "execution_count": 74,
   "id": "cfc63e73",
   "metadata": {},
   "outputs": [],
   "source": [
    "new_data = yData.to_string(index = False)"
   ]
  },
  {
   "cell_type": "code",
   "execution_count": 22,
   "id": "97c2886c",
   "metadata": {},
   "outputs": [
    {
     "name": "stdout",
     "output_type": "stream",
     "text": [
      "%  18.276098496562298\n",
      "12.8870210647583\n"
     ]
    }
   ],
   "source": [
    "print(\"% \",(investmenValue - firstInvestment) / firstInvestment * 100)\n",
    "print(investmenValue - firstInvestment)"
   ]
  },
  {
   "cell_type": "code",
   "execution_count": 23,
   "id": "3029e1dc",
   "metadata": {},
   "outputs": [
    {
     "name": "stdout",
     "output_type": "stream",
     "text": [
      "işlem yapılmasa durum: % 268.72645627163166\n"
     ]
    }
   ],
   "source": [
    "print(\"işlem yapılmasa durum: %\",(yData.Close.iloc[-1] - yData.Close.iloc[0]) / yData.Close.iloc[0] * 100)"
   ]
  },
  {
   "cell_type": "code",
   "execution_count": 24,
   "id": "f252fde0",
   "metadata": {},
   "outputs": [
    {
     "data": {
      "text/html": [
       "<div>\n",
       "<style scoped>\n",
       "    .dataframe tbody tr th:only-of-type {\n",
       "        vertical-align: middle;\n",
       "    }\n",
       "\n",
       "    .dataframe tbody tr th {\n",
       "        vertical-align: top;\n",
       "    }\n",
       "\n",
       "    .dataframe thead th {\n",
       "        text-align: right;\n",
       "    }\n",
       "</style>\n",
       "<table border=\"1\" class=\"dataframe\">\n",
       "  <thead>\n",
       "    <tr style=\"text-align: right;\">\n",
       "      <th></th>\n",
       "      <th>Date</th>\n",
       "      <th>Open</th>\n",
       "      <th>High</th>\n",
       "      <th>Low</th>\n",
       "      <th>Close</th>\n",
       "      <th>Adj Close</th>\n",
       "      <th>Volume</th>\n",
       "      <th>RSI_14</th>\n",
       "    </tr>\n",
       "  </thead>\n",
       "  <tbody>\n",
       "    <tr>\n",
       "      <th>0</th>\n",
       "      <td>2020-12-17</td>\n",
       "      <td>14.161881</td>\n",
       "      <td>14.584292</td>\n",
       "      <td>14.021077</td>\n",
       "      <td>14.102595</td>\n",
       "      <td>14.102595</td>\n",
       "      <td>15330790</td>\n",
       "      <td>NaN</td>\n",
       "    </tr>\n",
       "    <tr>\n",
       "      <th>1</th>\n",
       "      <td>2020-12-18</td>\n",
       "      <td>14.028488</td>\n",
       "      <td>14.502774</td>\n",
       "      <td>14.028488</td>\n",
       "      <td>14.265631</td>\n",
       "      <td>14.265631</td>\n",
       "      <td>17246022</td>\n",
       "      <td>NaN</td>\n",
       "    </tr>\n",
       "    <tr>\n",
       "      <th>2</th>\n",
       "      <td>2020-12-21</td>\n",
       "      <td>14.043309</td>\n",
       "      <td>14.302684</td>\n",
       "      <td>13.887684</td>\n",
       "      <td>13.984023</td>\n",
       "      <td>13.984023</td>\n",
       "      <td>14780192</td>\n",
       "      <td>NaN</td>\n",
       "    </tr>\n",
       "    <tr>\n",
       "      <th>3</th>\n",
       "      <td>2020-12-22</td>\n",
       "      <td>14.035898</td>\n",
       "      <td>14.421256</td>\n",
       "      <td>14.035898</td>\n",
       "      <td>14.228577</td>\n",
       "      <td>14.228577</td>\n",
       "      <td>10151210</td>\n",
       "      <td>81.774532</td>\n",
       "    </tr>\n",
       "    <tr>\n",
       "      <th>4</th>\n",
       "      <td>2020-12-23</td>\n",
       "      <td>14.302684</td>\n",
       "      <td>14.569470</td>\n",
       "      <td>14.280452</td>\n",
       "      <td>14.436077</td>\n",
       "      <td>14.436077</td>\n",
       "      <td>10815611</td>\n",
       "      <td>84.591091</td>\n",
       "    </tr>\n",
       "    <tr>\n",
       "      <th>...</th>\n",
       "      <td>...</td>\n",
       "      <td>...</td>\n",
       "      <td>...</td>\n",
       "      <td>...</td>\n",
       "      <td>...</td>\n",
       "      <td>...</td>\n",
       "      <td>...</td>\n",
       "      <td>...</td>\n",
       "    </tr>\n",
       "    <tr>\n",
       "      <th>245</th>\n",
       "      <td>2021-12-13</td>\n",
       "      <td>47.180000</td>\n",
       "      <td>49.340000</td>\n",
       "      <td>47.180000</td>\n",
       "      <td>48.580002</td>\n",
       "      <td>48.580002</td>\n",
       "      <td>22769160</td>\n",
       "      <td>76.616154</td>\n",
       "    </tr>\n",
       "    <tr>\n",
       "      <th>246</th>\n",
       "      <td>2021-12-14</td>\n",
       "      <td>49.139999</td>\n",
       "      <td>52.849998</td>\n",
       "      <td>49.139999</td>\n",
       "      <td>52.849998</td>\n",
       "      <td>52.849998</td>\n",
       "      <td>30638421</td>\n",
       "      <td>85.314248</td>\n",
       "    </tr>\n",
       "    <tr>\n",
       "      <th>247</th>\n",
       "      <td>2021-12-15</td>\n",
       "      <td>53.599998</td>\n",
       "      <td>54.799999</td>\n",
       "      <td>51.500000</td>\n",
       "      <td>51.849998</td>\n",
       "      <td>51.849998</td>\n",
       "      <td>28540846</td>\n",
       "      <td>77.443560</td>\n",
       "    </tr>\n",
       "    <tr>\n",
       "      <th>248</th>\n",
       "      <td>2021-12-16</td>\n",
       "      <td>52.900002</td>\n",
       "      <td>57.000000</td>\n",
       "      <td>52.700001</td>\n",
       "      <td>56.900002</td>\n",
       "      <td>56.900002</td>\n",
       "      <td>41337525</td>\n",
       "      <td>85.386530</td>\n",
       "    </tr>\n",
       "    <tr>\n",
       "      <th>249</th>\n",
       "      <td>2021-12-17</td>\n",
       "      <td>58.400002</td>\n",
       "      <td>61.000000</td>\n",
       "      <td>51.250000</td>\n",
       "      <td>52.000000</td>\n",
       "      <td>52.000000</td>\n",
       "      <td>47415546</td>\n",
       "      <td>61.050370</td>\n",
       "    </tr>\n",
       "  </tbody>\n",
       "</table>\n",
       "<p>250 rows × 8 columns</p>\n",
       "</div>"
      ],
      "text/plain": [
       "          Date       Open       High        Low      Close  Adj Close  \\\n",
       "0   2020-12-17  14.161881  14.584292  14.021077  14.102595  14.102595   \n",
       "1   2020-12-18  14.028488  14.502774  14.028488  14.265631  14.265631   \n",
       "2   2020-12-21  14.043309  14.302684  13.887684  13.984023  13.984023   \n",
       "3   2020-12-22  14.035898  14.421256  14.035898  14.228577  14.228577   \n",
       "4   2020-12-23  14.302684  14.569470  14.280452  14.436077  14.436077   \n",
       "..         ...        ...        ...        ...        ...        ...   \n",
       "245 2021-12-13  47.180000  49.340000  47.180000  48.580002  48.580002   \n",
       "246 2021-12-14  49.139999  52.849998  49.139999  52.849998  52.849998   \n",
       "247 2021-12-15  53.599998  54.799999  51.500000  51.849998  51.849998   \n",
       "248 2021-12-16  52.900002  57.000000  52.700001  56.900002  56.900002   \n",
       "249 2021-12-17  58.400002  61.000000  51.250000  52.000000  52.000000   \n",
       "\n",
       "       Volume     RSI_14  \n",
       "0    15330790        NaN  \n",
       "1    17246022        NaN  \n",
       "2    14780192        NaN  \n",
       "3    10151210  81.774532  \n",
       "4    10815611  84.591091  \n",
       "..        ...        ...  \n",
       "245  22769160  76.616154  \n",
       "246  30638421  85.314248  \n",
       "247  28540846  77.443560  \n",
       "248  41337525  85.386530  \n",
       "249  47415546  61.050370  \n",
       "\n",
       "[250 rows x 8 columns]"
      ]
     },
     "execution_count": 24,
     "metadata": {},
     "output_type": "execute_result"
    }
   ],
   "source": [
    "yData"
   ]
  },
  {
   "cell_type": "code",
   "execution_count": 44,
   "id": "b6d0cf94",
   "metadata": {},
   "outputs": [],
   "source": [
    "temp_df = pd.DataFrame(list(zip(yData.Date[1:].to_list(), yData.Close[1:].to_list(), rsi_signal)), columns = [\"Date\", \"Close\", \"Signal\"])"
   ]
  },
  {
   "cell_type": "code",
   "execution_count": 45,
   "id": "c4aaf910",
   "metadata": {},
   "outputs": [
    {
     "data": {
      "text/plain": [
       "array([ 0, -1,  1])"
      ]
     },
     "execution_count": 45,
     "metadata": {},
     "output_type": "execute_result"
    }
   ],
   "source": [
    "temp_df.Signal.unique()"
   ]
  },
  {
   "cell_type": "code",
   "execution_count": null,
   "id": "8b1baf6f",
   "metadata": {},
   "outputs": [],
   "source": []
  }
 ],
 "metadata": {
  "kernelspec": {
   "display_name": "Python 3 (ipykernel)",
   "language": "python",
   "name": "python3"
  },
  "language_info": {
   "codemirror_mode": {
    "name": "ipython",
    "version": 3
   },
   "file_extension": ".py",
   "mimetype": "text/x-python",
   "name": "python",
   "nbconvert_exporter": "python",
   "pygments_lexer": "ipython3",
   "version": "3.7.10"
  }
 },
 "nbformat": 4,
 "nbformat_minor": 5
}
